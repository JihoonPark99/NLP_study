{
  "nbformat": 4,
  "nbformat_minor": 0,
  "metadata": {
    "colab": {
      "provenance": [],
      "toc_visible": true,
      "include_colab_link": true
    },
    "kernelspec": {
      "name": "python3",
      "display_name": "Python 3"
    },
    "accelerator": "GPU"
  },
  "cells": [
    {
      "cell_type": "markdown",
      "metadata": {
        "id": "view-in-github",
        "colab_type": "text"
      },
      "source": [
        "<a href=\"https://colab.research.google.com/github/JihoonPark99/NLP_study/blob/main/_10_%EC%BC%80%EB%9D%BC%EC%8A%A4_Word2Vec_%EA%B5%AC%ED%98%84.ipynb\" target=\"_parent\"><img src=\"https://colab.research.google.com/assets/colab-badge.svg\" alt=\"Open In Colab\"/></a>"
      ]
    },
    {
      "cell_type": "markdown",
      "metadata": {
        "id": "Mk3q9W0DjH5G"
      },
      "source": [
        "# 케라스 Word2Vec 구현\n",
        "\n",
        "* 참고: https://wikidocs.net/69141"
      ]
    },
    {
      "cell_type": "code",
      "source": [],
      "metadata": {
        "id": "ap694gjoa7RY"
      },
      "execution_count": null,
      "outputs": []
    },
    {
      "cell_type": "markdown",
      "metadata": {
        "id": "RxZOa3m8qFw3"
      },
      "source": [
        "### 전처리"
      ]
    },
    {
      "cell_type": "code",
      "metadata": {
        "id": "ohSE_JnMSRDR",
        "colab": {
          "base_uri": "https://localhost:8080/",
          "height": 144
        },
        "outputId": "134f6c86-c195-4f30-f8e0-8a2cb4d9a7a1"
      },
      "source": [
        "from sklearn.datasets import fetch_20newsgroups\n",
        "\n",
        "dataset = fetch_20newsgroups(shuffle=True, random_state=1,\n",
        "                             remove=('headers', 'footers', 'quotes'))\n",
        "                                     #\"s\" 중요!!             #인용문들\n",
        "documents = dataset.data\n",
        "print(len(documents))\n",
        "documents[0]                                                         "
      ],
      "execution_count": 1,
      "outputs": [
        {
          "output_type": "stream",
          "name": "stdout",
          "text": [
            "11314\n"
          ]
        },
        {
          "output_type": "execute_result",
          "data": {
            "text/plain": [
              "\"Well i'm not sure about the story nad it did seem biased. What\\nI disagree with is your statement that the U.S. Media is out to\\nruin Israels reputation. That is rediculous. The U.S. media is\\nthe most pro-israeli media in the world. Having lived in Europe\\nI realize that incidences such as the one described in the\\nletter have occured. The U.S. media as a whole seem to try to\\nignore them. The U.S. is subsidizing Israels existance and the\\nEuropeans are not (at least not to the same degree). So I think\\nthat might be a reason they report more clearly on the\\natrocities.\\n\\tWhat is a shame is that in Austria, daily reports of\\nthe inhuman acts commited by Israeli soldiers and the blessing\\nreceived from the Government makes some of the Holocaust guilt\\ngo away. After all, look how the Jews are treating other races\\nwhen they got power. It is unfortunate.\\n\""
            ],
            "application/vnd.google.colaboratory.intrinsic+json": {
              "type": "string"
            }
          },
          "metadata": {},
          "execution_count": 1
        }
      ]
    },
    {
      "cell_type": "code",
      "metadata": {
        "id": "E56d3KXroenQ",
        "colab": {
          "base_uri": "https://localhost:8080/"
        },
        "outputId": "43e1ed27-d091-4051-f88c-20d7befb3a33"
      },
      "source": [
        "import re\n",
        "import nltk\n",
        "\n",
        "from nltk.corpus import stopwords\n",
        "from nltk.tokenize import word_tokenize\n",
        "\n",
        "nltk.download('stopwords')\n",
        "nltk.download('punkt')\n",
        "\n",
        "def clean_text(d):\n",
        "  pattern = r'[^a-zA-Z\\s]'\n",
        "  text = re.sub(pattern, '', d)\n",
        "  return text\n",
        "\n",
        "def clean_stopwords(d):\n",
        "  stop_words = stopwords.words('english')\n",
        "  return ' '.join([w.lower() for w in d.split() if w not in stop_words and len(w) > 3])\n",
        "\n",
        "def tokenize(d):\n",
        "  return word_tokenize(d)"
      ],
      "execution_count": 2,
      "outputs": [
        {
          "output_type": "stream",
          "name": "stderr",
          "text": [
            "[nltk_data] Downloading package stopwords to /root/nltk_data...\n",
            "[nltk_data]   Unzipping corpora/stopwords.zip.\n",
            "[nltk_data] Downloading package punkt to /root/nltk_data...\n",
            "[nltk_data]   Unzipping tokenizers/punkt.zip.\n"
          ]
        }
      ]
    },
    {
      "cell_type": "code",
      "metadata": {
        "id": "QCo9S9RlrfQg",
        "colab": {
          "base_uri": "https://localhost:8080/"
        },
        "outputId": "b688f2ef-311c-46c9-d9aa-c2ea0c1b8f21"
      },
      "source": [
        "import pandas as pd\n",
        "\n",
        "news_df = pd.DataFrame({'article' : documents})\n",
        "len(news_df)"
      ],
      "execution_count": 3,
      "outputs": [
        {
          "output_type": "execute_result",
          "data": {
            "text/plain": [
              "11314"
            ]
          },
          "metadata": {},
          "execution_count": 3
        }
      ]
    },
    {
      "cell_type": "code",
      "metadata": {
        "id": "9xzZu6Iprj5B",
        "colab": {
          "base_uri": "https://localhost:8080/"
        },
        "outputId": "2cce6ddf-c346-47b2-d378-9569bfb7081a"
      },
      "source": [
        "news_df.replace(\"\", float(\"NaN\"), inplace=True) #Not a Number\n",
        "news_df.dropna(inplace=True)\n",
        "len(news_df)"
      ],
      "execution_count": 4,
      "outputs": [
        {
          "output_type": "execute_result",
          "data": {
            "text/plain": [
              "11096"
            ]
          },
          "metadata": {},
          "execution_count": 4
        }
      ]
    },
    {
      "cell_type": "code",
      "metadata": {
        "id": "Oi3PJ7dMsF8K",
        "colab": {
          "base_uri": "https://localhost:8080/"
        },
        "outputId": "aa9471ea-b7a6-4812-cdb2-3785434a8308"
      },
      "source": [
        "news_df['article'] = news_df['article'].apply(clean_text)\n",
        "news_df['article'][:5]"
      ],
      "execution_count": 5,
      "outputs": [
        {
          "output_type": "execute_result",
          "data": {
            "text/plain": [
              "0    Well im not sure about the story nad it did se...\n",
              "1    \\n\\n\\n\\n\\n\\n\\nYeah do you expect people to rea...\n",
              "2    Although I realize that principle is not one o...\n",
              "3    Notwithstanding all the legitimate fuss about ...\n",
              "4    Well I will have to change the scoring on my p...\n",
              "Name: article, dtype: object"
            ]
          },
          "metadata": {},
          "execution_count": 5
        }
      ]
    },
    {
      "cell_type": "code",
      "metadata": {
        "id": "ViSra6MYuM9x",
        "colab": {
          "base_uri": "https://localhost:8080/"
        },
        "outputId": "68a0b214-0a29-4adc-b0a1-6adf6c3a5b65"
      },
      "source": [
        "news_df['article'] = news_df['article'].apply(clean_stopwords)\n",
        "news_df['article'][:5]\n",
        "\n",
        "##소문자로 바뀌고, 불필요한 (어커스트로피)같은거 다 없애줌"
      ],
      "execution_count": 6,
      "outputs": [
        {
          "output_type": "execute_result",
          "data": {
            "text/plain": [
              "0    well sure story seem biased what disagree stat...\n",
              "1    yeah expect people read actually accept hard a...\n",
              "2    although realize principle strongest points wo...\n",
              "3    notwithstanding legitimate fuss proposal much ...\n",
              "4    well change scoring playoff pool unfortunately...\n",
              "Name: article, dtype: object"
            ]
          },
          "metadata": {},
          "execution_count": 6
        }
      ]
    },
    {
      "cell_type": "code",
      "metadata": {
        "id": "Z3JgTpVfSRD_",
        "colab": {
          "base_uri": "https://localhost:8080/"
        },
        "outputId": "b50e8bfb-47a9-48e6-a3c6-0f91160f6a8d"
      },
      "source": [
        "tokenized_news = news_df['article'].apply(tokenize)\n",
        "tokenized_news = tokenized_news.to_list()\n",
        "tokenized_news[:2]"
      ],
      "execution_count": 7,
      "outputs": [
        {
          "output_type": "execute_result",
          "data": {
            "text/plain": [
              "[['well',\n",
              "  'sure',\n",
              "  'story',\n",
              "  'seem',\n",
              "  'biased',\n",
              "  'what',\n",
              "  'disagree',\n",
              "  'statement',\n",
              "  'media',\n",
              "  'ruin',\n",
              "  'israels',\n",
              "  'reputation',\n",
              "  'that',\n",
              "  'rediculous',\n",
              "  'media',\n",
              "  'proisraeli',\n",
              "  'media',\n",
              "  'world',\n",
              "  'having',\n",
              "  'lived',\n",
              "  'europe',\n",
              "  'realize',\n",
              "  'incidences',\n",
              "  'described',\n",
              "  'letter',\n",
              "  'occured',\n",
              "  'media',\n",
              "  'whole',\n",
              "  'seem',\n",
              "  'ignore',\n",
              "  'subsidizing',\n",
              "  'israels',\n",
              "  'existance',\n",
              "  'europeans',\n",
              "  'least',\n",
              "  'degree',\n",
              "  'think',\n",
              "  'might',\n",
              "  'reason',\n",
              "  'report',\n",
              "  'clearly',\n",
              "  'atrocities',\n",
              "  'what',\n",
              "  'shame',\n",
              "  'austria',\n",
              "  'daily',\n",
              "  'reports',\n",
              "  'inhuman',\n",
              "  'acts',\n",
              "  'commited',\n",
              "  'israeli',\n",
              "  'soldiers',\n",
              "  'blessing',\n",
              "  'received',\n",
              "  'government',\n",
              "  'makes',\n",
              "  'holocaust',\n",
              "  'guilt',\n",
              "  'away',\n",
              "  'after',\n",
              "  'look',\n",
              "  'jews',\n",
              "  'treating',\n",
              "  'races',\n",
              "  'power',\n",
              "  'unfortunate'],\n",
              " ['yeah',\n",
              "  'expect',\n",
              "  'people',\n",
              "  'read',\n",
              "  'actually',\n",
              "  'accept',\n",
              "  'hard',\n",
              "  'atheism',\n",
              "  'need',\n",
              "  'little',\n",
              "  'leap',\n",
              "  'faith',\n",
              "  'jimmy',\n",
              "  'your',\n",
              "  'logic',\n",
              "  'runs',\n",
              "  'steam',\n",
              "  'sorry',\n",
              "  'cant',\n",
              "  'pity',\n",
              "  'sorry',\n",
              "  'feelings',\n",
              "  'denial',\n",
              "  'faith',\n",
              "  'need',\n",
              "  'well',\n",
              "  'pretend',\n",
              "  'happily',\n",
              "  'ever',\n",
              "  'anyway',\n",
              "  'maybe',\n",
              "  'start',\n",
              "  'newsgroup',\n",
              "  'altatheisthard',\n",
              "  'wont',\n",
              "  'bummin',\n",
              "  'much',\n",
              "  'byebye',\n",
              "  'dont',\n",
              "  'forget',\n",
              "  'flintstones',\n",
              "  'chewables',\n",
              "  'bake',\n",
              "  'timmons']]"
            ]
          },
          "metadata": {},
          "execution_count": 7
        }
      ]
    },
    {
      "cell_type": "code",
      "source": [
        "len(tokenized_news)"
      ],
      "metadata": {
        "colab": {
          "base_uri": "https://localhost:8080/"
        },
        "id": "ytQxlE9KWiNY",
        "outputId": "8672e51e-33fa-4ed8-e6f7-005e4ba887ee"
      },
      "execution_count": 8,
      "outputs": [
        {
          "output_type": "execute_result",
          "data": {
            "text/plain": [
              "11096"
            ]
          },
          "metadata": {},
          "execution_count": 8
        }
      ]
    },
    {
      "cell_type": "code",
      "metadata": {
        "id": "uMCYgUIpSREH",
        "colab": {
          "base_uri": "https://localhost:8080/"
        },
        "outputId": "c8e84027-d360-4a9c-daf4-f282cdf567c4"
      },
      "source": [
        "import numpy as np\n",
        "\n",
        "drop_news = [index for index, sentence in enumerate(tokenized_news) if len(sentence) <= 1]\n",
        "news_texts = np.delete(tokenized_news, drop_news)\n",
        "print(len(news_texts))"
      ],
      "execution_count": null,
      "outputs": [
        {
          "output_type": "stream",
          "name": "stdout",
          "text": [
            "10939\n"
          ]
        },
        {
          "output_type": "stream",
          "name": "stderr",
          "text": [
            "/usr/local/lib/python3.8/dist-packages/numpy/lib/function_base.py:4454: VisibleDeprecationWarning: Creating an ndarray from ragged nested sequences (which is a list-or-tuple of lists-or-tuples-or ndarrays with different lengths or shapes) is deprecated. If you meant to do this, you must specify 'dtype=object' when creating the ndarray.\n",
            "  arr = asarray(arr)\n"
          ]
        }
      ]
    },
    {
      "cell_type": "code",
      "metadata": {
        "id": "YI45-8AoZxR_"
      },
      "source": [
        "from tensorflow.keras.preprocessing.text import Tokenizer\n",
        "\n",
        "news_2000 = news_texts[:2000]\n",
        "tokenizer = Tokenizer()\n",
        "tokenizer.fit_on_texts(news_2000)\n",
        "\n",
        "idx2word = {value:key for key, value in tokenizer.word_index.items()}\n",
        "###key : value 형태를 value : key 형태로 바꾸기\n",
        "sequences = tokenizer.texts_to_sequences(news_2000)\n"
      ],
      "execution_count": null,
      "outputs": []
    },
    {
      "cell_type": "code",
      "source": [
        "vocab_size = len(tokenizer.word_index) + 1\n",
        "print(vocab_size) #좀 줄여짐"
      ],
      "metadata": {
        "colab": {
          "base_uri": "https://localhost:8080/"
        },
        "id": "FvdqlgP3XJ4U",
        "outputId": "c8d8fb64-153a-4dc1-a9a0-8dce31ba6ee6"
      },
      "execution_count": null,
      "outputs": [
        {
          "output_type": "stream",
          "name": "stdout",
          "text": [
            "29706\n"
          ]
        }
      ]
    },
    {
      "cell_type": "code",
      "metadata": {
        "id": "_x1kmaB-ZzRI",
        "colab": {
          "base_uri": "https://localhost:8080/"
        },
        "outputId": "0dca6cd7-e0cb-4bf5-9d29-b98d462b8b92"
      },
      "source": [
        "print(sequences[1])"
      ],
      "execution_count": null,
      "outputs": [
        {
          "output_type": "stream",
          "name": "stdout",
          "text": [
            "[1232, 443, 2, 56, 113, 405, 57, 1342, 20, 65, 3454, 384, 6822, 1142, 360, 2217, 444, 55, 12419, 444, 1862, 3804, 384, 20, 9, 4279, 8694, 171, 291, 130, 148, 648, 12420, 304, 12421, 14, 12422, 4, 770, 12423, 12424, 4870, 8695]\n"
          ]
        }
      ]
    },
    {
      "cell_type": "markdown",
      "metadata": {
        "id": "ydQWu3ZnqUc4"
      },
      "source": [
        "### Skipgram"
      ]
    },
    {
      "cell_type": "markdown",
      "metadata": {
        "id": "pOCiR_WrqMXk"
      },
      "source": [
        "#### Skipgram 전처리"
      ]
    },
    {
      "cell_type": "markdown",
      "metadata": {
        "id": "ua1h2LF_8DPH"
      },
      "source": [
        "* 네거티브 샘플링(Negative Sampling)\n",
        "\n",
        "  + Word2Vec은 출력층이 내놓는 값에 소프트맥스 함수를 적용해 확률값으로 변환한 후 이를 정답과 비교해 역전파(backpropagation)\n",
        "  + 소프트맥스를 적용하려면 분모에 해당하는 값, 즉 중심단어와 나머지 모든 단어의 내적을 한 뒤, 이를 다시 exp 계산을 하는데 전체 단어가 많을 경우 엄청난 계산량 발생\n",
        "  + 네거티브 샘플링은 소프트맥스 확률을 구할 때 전체 단어를 대상으로 구하지 않고, 일부 단어만 뽑아서 계산을 하는 방식\n",
        "  + 네거티브 샘플링 동작은 사용자가 지정한 윈도우 사이즈 내에 등장하지 않는 단어(negative sample)를 5~20개 정도 뽑고, 이를 정답단어와 합쳐 전체 단어처럼 소프트맥스 확률을 계산하여 파라미터 업데이트"
      ]
    },
    {
      "cell_type": "markdown",
      "source": [
        "이렇게 하면 정확도는 조금 떨어지더라도 확실히 계산량은 줄어들겠죠? \n"
      ],
      "metadata": {
        "id": "E0Id4os-agi4"
      }
    },
    {
      "cell_type": "code",
      "metadata": {
        "id": "QVkAK1ZlXi9Q"
      },
      "source": [
        "from tensorflow.keras.preprocessing.sequence import skipgrams\n",
        "\n",
        "skip_grams = [skipgrams(smaple, vocabulary_size=vocab_size, window_size=10) for smaple in sequences[:10]]"
      ],
      "execution_count": null,
      "outputs": []
    },
    {
      "cell_type": "code",
      "metadata": {
        "id": "2NBBbnyjXjUv",
        "colab": {
          "base_uri": "https://localhost:8080/"
        },
        "outputId": "5e0ffe11-1981-4d89-8209-93f4ea099dfd"
      },
      "source": [
        "pairs, labels = skip_grams[0][0], skip_grams[0][1]\n",
        "\n",
        "for i in range(5):\n",
        "  print(\"{:s}({:d}),{:s}({:d}) -> {:d}\".format(\n",
        "      idx2word[pairs[i][0]], pairs[i][0],\n",
        "      idx2word[pairs[i][1]], pairs[i][1],\n",
        "      labels[i]\n",
        "  ))"
      ],
      "execution_count": null,
      "outputs": [
        {
          "output_type": "stream",
          "name": "stdout",
          "text": [
            "realize(937),described(1231) -> 1\n",
            "commited(4869),thrice(27412) -> 0\n",
            "treating(3803),raises(7400) -> 0\n",
            "degree(1397),subsidizing(8691) -> 1\n",
            "media(483),europe(1604) -> 1\n"
          ]
        }
      ]
    },
    {
      "cell_type": "code",
      "metadata": {
        "id": "I_SCb1sMXlIV",
        "colab": {
          "base_uri": "https://localhost:8080/"
        },
        "outputId": "7266cc29-2a4b-447a-b834-943ff6556af6"
      },
      "source": [
        "print(len(skip_grams))\n",
        "print(len(pairs))\n",
        "print(len(labels))"
      ],
      "execution_count": null,
      "outputs": [
        {
          "output_type": "stream",
          "name": "stdout",
          "text": [
            "10\n",
            "2220\n",
            "2220\n"
          ]
        }
      ]
    },
    {
      "cell_type": "code",
      "metadata": {
        "id": "IiA53pYuXlMe"
      },
      "source": [
        "\n",
        "skip_grams = [skipgrams(smaple, vocabulary_size=vocab_size, window_size=10) for smaple in sequences]"
      ],
      "execution_count": null,
      "outputs": []
    },
    {
      "cell_type": "markdown",
      "metadata": {
        "id": "rsIyKuKuqQpp"
      },
      "source": [
        "#### Skipgram 모델 구성"
      ]
    },
    {
      "cell_type": "code",
      "metadata": {
        "id": "y222fSJx2CwH"
      },
      "source": [
        "from tensorflow.keras.models import Sequential, Model\n",
        "from tensorflow.keras.layers import Embedding, Reshape, Activation, Input, Dot\n",
        "from tensorflow.keras.utils import plot_model"
      ],
      "execution_count": null,
      "outputs": []
    },
    {
      "cell_type": "code",
      "metadata": {
        "id": "FQAT9ZdwPktd"
      },
      "source": [
        "embed_size= 50"
      ],
      "execution_count": null,
      "outputs": []
    },
    {
      "cell_type": "code",
      "metadata": {
        "id": "5A4aGPBYPl-v"
      },
      "source": [
        "def word2vec():\n",
        "  ##타켓 가져오기 \n",
        "  target_inputs = Input(shape=(1,), dtype='int32')\n",
        "  target_embedding = Embedding(vocab_size, embed_size)(target_inputs)\n",
        "\n",
        "  ##주변단어 가져오기\n",
        "  context_inputs = Input(shape=(1,), dtype='int32')\n",
        "  context_embedding = Embedding(vocab_size, embed_size)(context_inputs)\n",
        "\n",
        "  ##Dot : 내적 계산\n",
        "  dot_product = Dot(axes=2)([target_embedding, context_embedding])\n",
        "  dot_product = Reshape((1,), input_shape=(1,1))(dot_product)\n",
        "  output = Activation('sigmoid')(dot_product)\n",
        "\n",
        "  model = Model(inputs=[target_inputs, context_inputs], outputs= output)\n",
        "  model.compile(loss='binary_crossentropy', optimizer='adam')\n",
        "\n",
        "  return model"
      ],
      "execution_count": null,
      "outputs": []
    },
    {
      "cell_type": "code",
      "metadata": {
        "id": "uyyg1P7oPoM9",
        "colab": {
          "base_uri": "https://localhost:8080/",
          "height": 949
        },
        "outputId": "0db4ccbf-6733-4eee-a7cf-8c3d3b6d0d7e"
      },
      "source": [
        "model = word2vec()\n",
        "model.summary()\n",
        "plot_model(model, show_shapes=True, show_layer_names = True)"
      ],
      "execution_count": null,
      "outputs": [
        {
          "output_type": "stream",
          "name": "stdout",
          "text": [
            "Model: \"model_1\"\n",
            "__________________________________________________________________________________________________\n",
            " Layer (type)                   Output Shape         Param #     Connected to                     \n",
            "==================================================================================================\n",
            " input_3 (InputLayer)           [(None, 1)]          0           []                               \n",
            "                                                                                                  \n",
            " input_4 (InputLayer)           [(None, 1)]          0           []                               \n",
            "                                                                                                  \n",
            " embedding_2 (Embedding)        (None, 1, 50)        1485300     ['input_3[0][0]']                \n",
            "                                                                                                  \n",
            " embedding_3 (Embedding)        (None, 1, 50)        1485300     ['input_4[0][0]']                \n",
            "                                                                                                  \n",
            " dot_1 (Dot)                    (None, 1, 1)         0           ['embedding_2[0][0]',            \n",
            "                                                                  'embedding_3[0][0]']            \n",
            "                                                                                                  \n",
            " reshape_1 (Reshape)            (None, 1)            0           ['dot_1[0][0]']                  \n",
            "                                                                                                  \n",
            " activation_1 (Activation)      (None, 1)            0           ['reshape_1[0][0]']              \n",
            "                                                                                                  \n",
            "==================================================================================================\n",
            "Total params: 2,970,600\n",
            "Trainable params: 2,970,600\n",
            "Non-trainable params: 0\n",
            "__________________________________________________________________________________________________\n"
          ]
        },
        {
          "output_type": "execute_result",
          "data": {
            "image/png": "[encoded data removed]",
            "text/plain": [
              "<IPython.core.display.Image object>"
            ]
          },
          "metadata": {},
          "execution_count": 45
        }
      ]
    },
    {
      "cell_type": "code",
      "metadata": {
        "id": "aKaWUC2DPpMG",
        "colab": {
          "base_uri": "https://localhost:8080/"
        },
        "outputId": "2f728425-3953-4669-fc72-7c72cb0537f2"
      },
      "source": [
        "for epoch in range(1, 11):\n",
        "  loss = 0\n",
        "  for _, elem in enumerate(skip_grams):\n",
        "    first_elem = np.array(list(zip(*elem[0]))[0], dtype='int32')\n",
        "    second_elem = np.array(list(zip(*elem[0]))[1], dtype='int32')\n",
        "    labels = np.array(elem[1], dtype='int32')\n",
        "    X = [first_elem, second_elem]\n",
        "    Y = labels\n",
        "    loss += model.train_on_batch(X,Y) #배치한번한번 X,Y넣으면서 에폭을 돌리고\n",
        "    ###### 한번에 에폭에 여러번의 트레이닝을 거치고 \n",
        "    ###### 이럴때마다 loss값을 추가한다\n",
        "\n",
        "  print('Epoch : ', epoch, \"Loss : \", loss)\n"
      ],
      "execution_count": null,
      "outputs": [
        {
          "output_type": "stream",
          "name": "stdout",
          "text": [
            "Epoch :  1 Loss :  1227.0235922783613\n",
            "Epoch :  2 Loss :  929.0478657186031\n",
            "Epoch :  3 Loss :  831.6386879980564\n",
            "Epoch :  4 Loss :  786.2541908472776\n",
            "Epoch :  5 Loss :  760.0711326226592\n",
            "Epoch :  6 Loss :  740.515368051827\n",
            "Epoch :  7 Loss :  721.3056968003511\n",
            "Epoch :  8 Loss :  698.820011369884\n",
            "Epoch :  9 Loss :  671.3658069930971\n",
            "Epoch :  10 Loss :  638.3474104143679\n"
          ]
        }
      ]
    },
    {
      "cell_type": "markdown",
      "source": [
        "우리는 뉴스 일부만 사용\n",
        "- 뉴스 전체 사용하고, 여러번 사용하면 loss값이 이렇게 나오진 않음.좋은 성능이 나올수 있음."
      ],
      "metadata": {
        "id": "Wk89R6HAhhpS"
      }
    },
    {
      "cell_type": "code",
      "metadata": {
        "id": "zPNLRZqwXSib"
      },
      "source": [
        "## gensim에서 word2vec모델을 가져와서 테스트를 하자\n",
        "## 텍스트로 좀 빼자\n",
        "## \n",
        "\n",
        "import gensim\n",
        "\n",
        "f = open('skipgram.txt', 'w')\n",
        "f.write('{} {}\\n'.format(vocab_size-1, embed_size))\n",
        "vectors = model.get_weights()[0]\n",
        "for word, i in tokenizer.word_index.items():\n",
        "  f.write('{} {}\\n'.format(word, ' '.join(map(str, list(vectors[i, :])))))\n",
        "f.close()\n",
        "\n",
        "skipgram = gensim.models.KeyedVectors.load_word2vec_format('skipgram.txt', binary=False)"
      ],
      "execution_count": null,
      "outputs": []
    },
    {
      "cell_type": "code",
      "metadata": {
        "id": "VmzFckXv9nk2",
        "colab": {
          "base_uri": "https://localhost:8080/"
        },
        "outputId": "1cc05455-3d75-403f-e3a2-8beb1eaa5527"
      },
      "source": [
        "skipgram.most_similar(positive=['soldier'])"
      ],
      "execution_count": null,
      "outputs": [
        {
          "output_type": "execute_result",
          "data": {
            "text/plain": [
              "[('traps', 0.8901463150978088),\n",
              " ('retalliates', 0.8680451512336731),\n",
              " ('booby', 0.8401743769645691),\n",
              " ('ammunitions', 0.8071205019950867),\n",
              " ('israeli', 0.7403378486633301),\n",
              " ('indiscriminately', 0.7085849046707153),\n",
              " ('sneak', 0.698627769947052),\n",
              " ('patrols', 0.6910183429718018),\n",
              " ('pilots', 0.6750695109367371),\n",
              " ('countersteering', 0.6099787950515747)]"
            ]
          },
          "metadata": {},
          "execution_count": 52
        }
      ]
    },
    {
      "cell_type": "code",
      "metadata": {
        "id": "omo9v74q9oKD",
        "colab": {
          "base_uri": "https://localhost:8080/"
        },
        "outputId": "f8d2fd05-3994-4d97-94f4-26dc91d54b93"
      },
      "source": [
        "skipgram.most_similar(positive=['world'])"
      ],
      "execution_count": null,
      "outputs": [
        {
          "output_type": "execute_result",
          "data": {
            "text/plain": [
              "[('firmly', 0.7083927392959595),\n",
              " ('beds', 0.696682870388031),\n",
              " ('establish', 0.6947639584541321),\n",
              " ('wider', 0.6796113848686218),\n",
              " ('angle', 0.6790615916252136),\n",
              " ('massacres', 0.6786090731620789),\n",
              " ('bleacher', 0.6711784601211548),\n",
              " ('suppress', 0.6680150032043457),\n",
              " ('brainwashed', 0.665738582611084),\n",
              " ('regolith', 0.6606431603431702)]"
            ]
          },
          "metadata": {},
          "execution_count": 53
        }
      ]
    },
    {
      "cell_type": "markdown",
      "metadata": {
        "id": "vLfmfO1HqZxn"
      },
      "source": [
        "### CBOW\n"
      ]
    },
    {
      "cell_type": "markdown",
      "metadata": {
        "id": "BIrUD6Ph74ya"
      },
      "source": [
        "#### CBOW 전처리"
      ]
    },
    {
      "cell_type": "code",
      "metadata": {
        "id": "TNBmb-UK9tJ-"
      },
      "source": [
        "def skipgram2cbow(skipgrams):\n",
        "  cbows = []\n",
        "  flag = 0\n",
        "  for n in skip_grams :\n",
        "    temp1 = []\n",
        "    for t in n :\n",
        "      if flag == 1:\n",
        "        flag = 0\n",
        "        temp1.append(t) \n",
        "        ##flag가 1일땐 0으로 바궈주고, temp1에 t추가\n",
        "      else :\n",
        "        flag = 1\n",
        "        temp2 = []\n",
        "        for x in t :\n",
        "          temp2.append([x[1], x[0]])\n",
        "        temp1.append(temp2)\n",
        "    cbows.append(temp1)\n",
        "  return cbows"
      ],
      "execution_count": null,
      "outputs": []
    },
    {
      "cell_type": "code",
      "metadata": {
        "id": "BEIHgfWeALbL"
      },
      "source": [
        "cbows = skipgram2cbow(skip_grams)"
      ],
      "execution_count": null,
      "outputs": []
    },
    {
      "cell_type": "code",
      "source": [],
      "metadata": {
        "id": "o1002SDI8H3L"
      },
      "execution_count": null,
      "outputs": []
    },
    {
      "cell_type": "code",
      "metadata": {
        "id": "bPnygNQO1vjJ",
        "colab": {
          "base_uri": "https://localhost:8080/"
        },
        "outputId": "46d2c7af-141b-4ca5-a3be-05c30d3fb17e"
      },
      "source": [
        "pairs, labels = cbows[0][0], cbows[0][1]\n",
        "\n",
        "for i in range(5):\n",
        "  print(\"{:s}({:d}),{:s}({:d}) -> {:d}\".format(\n",
        "      idx2word[pairs[i][0]], pairs[i][0],\n",
        "      idx2word[pairs[i][1]], pairs[i][1],\n",
        "      labels[i]\n",
        "  ))"
      ],
      "execution_count": null,
      "outputs": [
        {
          "output_type": "stream",
          "name": "stdout",
          "text": [
            "censored(20290),power(59) -> 0\n",
            "rusting(17646),seem(167) -> 0\n",
            "daily(1605),commited(4869) -> 1\n",
            "reputation(5676),biased(2905) -> 1\n",
            "likes(3344),commited(4869) -> 0\n"
          ]
        }
      ]
    },
    {
      "cell_type": "code",
      "metadata": {
        "id": "n7dyMzMz1xXd",
        "colab": {
          "base_uri": "https://localhost:8080/"
        },
        "outputId": "682922d7-c60c-4333-ad49-4a722d4db47e"
      },
      "source": [
        "print(len(cbows))\n",
        "print(len(pairs))\n",
        "print(len(labels))"
      ],
      "execution_count": null,
      "outputs": [
        {
          "output_type": "stream",
          "name": "stdout",
          "text": [
            "2000\n",
            "2220\n",
            "2220\n"
          ]
        }
      ]
    },
    {
      "cell_type": "markdown",
      "metadata": {
        "id": "D4ulkMuv79SL"
      },
      "source": [
        "#### CBOW 모델 구성"
      ]
    },
    {
      "cell_type": "code",
      "metadata": {
        "id": "XMC5u4Pm8Glt",
        "colab": {
          "base_uri": "https://localhost:8080/",
          "height": 949
        },
        "outputId": "e9f6ac51-ffe2-4b8c-b236-dd448cb63144"
      },
      "source": [
        "model = word2vec()\n",
        "model.summary()\n",
        "plot_model(model, show_shapes=True, show_layer_names = True)"
      ],
      "execution_count": null,
      "outputs": [
        {
          "output_type": "stream",
          "name": "stdout",
          "text": [
            "Model: \"model_2\"\n",
            "__________________________________________________________________________________________________\n",
            " Layer (type)                   Output Shape         Param #     Connected to                     \n",
            "==================================================================================================\n",
            " input_5 (InputLayer)           [(None, 1)]          0           []                               \n",
            "                                                                                                  \n",
            " input_6 (InputLayer)           [(None, 1)]          0           []                               \n",
            "                                                                                                  \n",
            " embedding_4 (Embedding)        (None, 1, 50)        1485300     ['input_5[0][0]']                \n",
            "                                                                                                  \n",
            " embedding_5 (Embedding)        (None, 1, 50)        1485300     ['input_6[0][0]']                \n",
            "                                                                                                  \n",
            " dot_2 (Dot)                    (None, 1, 1)         0           ['embedding_4[0][0]',            \n",
            "                                                                  'embedding_5[0][0]']            \n",
            "                                                                                                  \n",
            " reshape_2 (Reshape)            (None, 1)            0           ['dot_2[0][0]']                  \n",
            "                                                                                                  \n",
            " activation_2 (Activation)      (None, 1)            0           ['reshape_2[0][0]']              \n",
            "                                                                                                  \n",
            "==================================================================================================\n",
            "Total params: 2,970,600\n",
            "Trainable params: 2,970,600\n",
            "Non-trainable params: 0\n",
            "__________________________________________________________________________________________________\n"
          ]
        },
        {
          "output_type": "execute_result",
          "data": {
            "image/png": "[encoded data removed]",
            "text/plain": [
              "<IPython.core.display.Image object>"
            ]
          },
          "metadata": {},
          "execution_count": 61
        }
      ]
    },
    {
      "cell_type": "code",
      "metadata": {
        "id": "6yVXxpfs8JJX",
        "colab": {
          "base_uri": "https://localhost:8080/"
        },
        "outputId": "1f75bb29-b04c-42a0-9d46-dfbb59afa221"
      },
      "source": [
        "for epoch in range(1, 11):\n",
        "  loss = 0\n",
        "  for _, elem in enumerate(cbows):\n",
        "    first_elem = np.array(list(zip(*elem[0]))[0], dtype='int32')\n",
        "    second_elem = np.array(list(zip(*elem[0]))[1], dtype='int32')\n",
        "    labels = np.array(elem[1], dtype='int32')\n",
        "    X = [first_elem, second_elem]\n",
        "    Y = labels\n",
        "    loss += model.train_on_batch(X,Y) #배치한번한번 X,Y넣으면서 에폭을 돌리고\n",
        "    ###### 한번에 에폭에 여러번의 트레이닝을 거치고 \n",
        "    ###### 이럴때마다 loss값을 추가한다\n",
        "\n",
        "  print('Epoch : ', epoch, \"Loss : \", loss)\n"
      ],
      "execution_count": null,
      "outputs": [
        {
          "output_type": "stream",
          "name": "stdout",
          "text": [
            "Epoch :  1 Loss :  781.2465701848269\n",
            "Epoch :  2 Loss :  754.7362570241094\n",
            "Epoch :  3 Loss :  734.1845696642995\n",
            "Epoch :  4 Loss :  713.3870072886348\n",
            "Epoch :  5 Loss :  689.0229791775346\n",
            "Epoch :  6 Loss :  659.6241365298629\n",
            "Epoch :  7 Loss :  624.9743314534426\n",
            "Epoch :  8 Loss :  586.648682301864\n",
            "Epoch :  9 Loss :  546.6703280238435\n",
            "Epoch :  10 Loss :  507.37727591977455\n"
          ]
        }
      ]
    },
    {
      "cell_type": "code",
      "metadata": {
        "id": "POXBaE0d8LFe"
      },
      "source": [
        "import gensim\n",
        "\n",
        "f = open('skipgram.txt', 'w')\n",
        "f.write('{} {}\\n'.format(vocab_size-1, embed_size))\n",
        "vectors = model.get_weights()[0]\n",
        "for word, i in tokenizer.word_index.items():\n",
        "  f.write('{} {}\\n'.format(word, ' '.join(map(str, list(vectors[i, :])))))\n",
        "f.close()\n",
        "\n",
        "cbows = gensim.models.KeyedVectors.load_word2vec_format('skipgram.txt', binary=False)"
      ],
      "execution_count": null,
      "outputs": []
    },
    {
      "cell_type": "code",
      "metadata": {
        "id": "LK4u6zG49gVn",
        "colab": {
          "base_uri": "https://localhost:8080/"
        },
        "outputId": "1b6fb979-4c46-4955-9b24-0eb5a8ebc85c"
      },
      "source": [
        "cbows.most_similar(positive = ['soldier'])"
      ],
      "execution_count": null,
      "outputs": [
        {
          "output_type": "execute_result",
          "data": {
            "text/plain": [
              "[('traps', 0.9322865605354309),\n",
              " ('booby', 0.9300163984298706),\n",
              " ('sneak', 0.926967203617096),\n",
              " ('retalliates', 0.9155864119529724),\n",
              " ('sugared', 0.9080252647399902),\n",
              " ('shrapnel', 0.9077704548835754),\n",
              " ('undeclared', 0.9072073101997375),\n",
              " ('clementcolor', 0.9064816236495972),\n",
              " ('nationalist', 0.9059233665466309),\n",
              " ('sovereignty', 0.9048746824264526)]"
            ]
          },
          "metadata": {},
          "execution_count": 70
        }
      ]
    },
    {
      "cell_type": "code",
      "metadata": {
        "id": "h6fQuZSs9hqM",
        "colab": {
          "base_uri": "https://localhost:8080/"
        },
        "outputId": "fde4ea48-ea4c-4a99-84d6-99e5d1afb314"
      },
      "source": [
        "cbows.most_similar(positive=['world'])"
      ],
      "execution_count": null,
      "outputs": [
        {
          "output_type": "execute_result",
          "data": {
            "text/plain": [
              "[('ever', 0.9290981888771057),\n",
              " ('really', 0.9159550070762634),\n",
              " ('since', 0.9138662219047546),\n",
              " ('mean', 0.9054532051086426),\n",
              " ('post', 0.9041867852210999),\n",
              " ('time', 0.8989629149436951),\n",
              " ('problem', 0.8977533578872681),\n",
              " ('believe', 0.8953918814659119),\n",
              " ('dont', 0.8938876986503601),\n",
              " ('line', 0.8920932412147522)]"
            ]
          },
          "metadata": {},
          "execution_count": 71
        }
      ]
    }
  ]
}