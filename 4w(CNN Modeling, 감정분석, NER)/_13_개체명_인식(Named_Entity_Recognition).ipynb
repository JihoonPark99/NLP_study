{
  "nbformat": 4,
  "nbformat_minor": 0,
  "metadata": {
    "colab": {
      "provenance": [],
      "include_colab_link": true
    },
    "kernelspec": {
      "name": "python3",
      "display_name": "Python 3"
    }
  },
  "cells": [
    {
      "cell_type": "markdown",
      "metadata": {
        "id": "view-in-github",
        "colab_type": "text"
      },
      "source": [
        "<a href=\"https://colab.research.google.com/github/JihoonPark99/NLP_study/blob/main/_13_%EA%B0%9C%EC%B2%B4%EB%AA%85_%EC%9D%B8%EC%8B%9D(Named_Entity_Recognition).ipynb\" target=\"_parent\"><img src=\"https://colab.research.google.com/assets/colab-badge.svg\" alt=\"Open In Colab\"/></a>"
      ]
    },
    {
      "cell_type": "markdown",
      "source": [],
      "metadata": {
        "id": "pS6oBAthpmcT"
      }
    },
    {
      "cell_type": "markdown",
      "metadata": {
        "id": "tV70fimDW_-G"
      },
      "source": [
        "# 개체명 인식(Named Entity Recognition)\n"
      ]
    },
    {
      "cell_type": "markdown",
      "metadata": {
        "id": "MWA304rM5v8A"
      },
      "source": [
        "* 개체명 인식은 텍스트에서 이름을 가진 개체를 인식하는 기술      \n",
        "* 가령, '철수와 영희는 밥을 먹었다'에서 이름과 사물을 추출하는 개체명 인식 모델 결과 \n",
        "\n",
        "  철수 - 이름    \n",
        "  영희 - 이름    \n",
        "  밥 - 사물"
      ]
    },
    {
      "cell_type": "markdown",
      "metadata": {
        "id": "9TwymWiS5fQs"
      },
      "source": [
        "## 개체명 인식 - NLTK\n",
        "\n",
        "* https://wikidocs.net/30682"
      ]
    },
    {
      "cell_type": "markdown",
      "metadata": {
        "id": "WClqugy-7LM4"
      },
      "source": [
        "* `nltk` 라이브러리에서는 미리 학습된 개체명 인식 모델을 제공"
      ]
    },
    {
      "cell_type": "markdown",
      "metadata": {
        "id": "5VP0CghXeLY-"
      },
      "source": [
        "### 라이브러리 준비"
      ]
    },
    {
      "cell_type": "code",
      "metadata": {
        "id": "ovXXNeMb7Xcw",
        "colab": {
          "base_uri": "https://localhost:8080/"
        },
        "outputId": "cf8cab28-36e7-4218-a5f4-ef0199ebb539"
      },
      "source": [
        "import nltk\n",
        "\n",
        "nltk.download('words')\n",
        "nltk.download('punkt')\n",
        "nltk.download('averaged_perceptron_tagger')\n",
        "nltk.download('maxent_ne_chunker')"
      ],
      "execution_count": null,
      "outputs": [
        {
          "output_type": "stream",
          "name": "stderr",
          "text": [
            "[nltk_data] Downloading package words to /root/nltk_data...\n",
            "[nltk_data]   Unzipping corpora/words.zip.\n",
            "[nltk_data] Downloading package punkt to /root/nltk_data...\n",
            "[nltk_data]   Unzipping tokenizers/punkt.zip.\n",
            "[nltk_data] Downloading package averaged_perceptron_tagger to\n",
            "[nltk_data]     /root/nltk_data...\n",
            "[nltk_data]   Unzipping taggers/averaged_perceptron_tagger.zip.\n",
            "[nltk_data] Downloading package maxent_ne_chunker to\n",
            "[nltk_data]     /root/nltk_data...\n",
            "[nltk_data]   Unzipping chunkers/maxent_ne_chunker.zip.\n"
          ]
        },
        {
          "output_type": "execute_result",
          "data": {
            "text/plain": [
              "True"
            ]
          },
          "metadata": {},
          "execution_count": 1
        }
      ]
    },
    {
      "cell_type": "markdown",
      "metadata": {
        "id": "O4lxskxmeQJU"
      },
      "source": [
        "### 토큰화 및 품사 태깅"
      ]
    },
    {
      "cell_type": "code",
      "metadata": {
        "id": "3mPuhBfs5qrQ",
        "colab": {
          "base_uri": "https://localhost:8080/"
        },
        "outputId": "19f7802b-95cc-4e78-8824-8db788295dba"
      },
      "source": [
        "from nltk import word_tokenize, pos_tag, ne_chunk\n",
        "\n",
        "sentence = \"James is working at Disney in London\"\n",
        "sentence = pos_tag(word_tokenize(sentence))\n",
        "print(sentence)"
      ],
      "execution_count": null,
      "outputs": [
        {
          "output_type": "stream",
          "name": "stdout",
          "text": [
            "[('James', 'NNP'), ('is', 'VBZ'), ('working', 'VBG'), ('at', 'IN'), ('Disney', 'NNP'), ('in', 'IN'), ('London', 'NNP')]\n"
          ]
        }
      ]
    },
    {
      "cell_type": "markdown",
      "metadata": {
        "id": "9DZP3vVveYGs"
      },
      "source": [
        "### 개체명 인식"
      ]
    },
    {
      "cell_type": "code",
      "metadata": {
        "id": "KuDJ4Ur47Gzw",
        "colab": {
          "base_uri": "https://localhost:8080/"
        },
        "outputId": "9218d736-0a37-4d61-a794-5beb39b2433e"
      },
      "source": [
        "sentence = ne_chunk(sentence)\n",
        "##ne_chunk를 이용해서 개체명이 나옴\n",
        "\n",
        "# PERSON\n",
        "# ORGANIZATION\n",
        "# GPE : 국가\n",
        "print(sentence)"
      ],
      "execution_count": null,
      "outputs": [
        {
          "output_type": "stream",
          "name": "stdout",
          "text": [
            "(S\n",
            "  (PERSON James/NNP)\n",
            "  is/VBZ\n",
            "  working/VBG\n",
            "  at/IN\n",
            "  (ORGANIZATION Disney/NNP)\n",
            "  in/IN\n",
            "  (GPE London/NNP))\n"
          ]
        }
      ]
    },
    {
      "cell_type": "markdown",
      "source": [
        "개체명 인식이 되는 딥러닝 모델을 직접 만들어보자"
      ],
      "metadata": {
        "id": "iCIeqTXW7YlI"
      }
    },
    {
      "cell_type": "markdown",
      "metadata": {
        "id": "WvSriP226tSZ"
      },
      "source": [
        "## 개체명 인식 - LSTM\n",
        "\n",
        "* https://wikidocs.net/24682"
      ]
    },
    {
      "cell_type": "markdown",
      "metadata": {
        "id": "vOoJbTJC7xLC"
      },
      "source": [
        "* 사용자가 제공되고 있는 개체명 인식 모델과는 다른 개체명을 정의해 사용하는 것이 필요할 수 있음\n",
        "* 직접 개체명 인식 모델을 구성해 학습하고 사용할 수 있음"
      ]
    },
    {
      "cell_type": "markdown",
      "metadata": {
        "id": "7TZcsoHWee4F"
      },
      "source": [
        "### 라이브러리 준비"
      ]
    },
    {
      "cell_type": "code",
      "metadata": {
        "id": "Z3Pmu8QG64cK"
      },
      "source": [
        "from tensorflow.keras.preprocessing.text import Tokenizer\n",
        "from tensorflow.keras.preprocessing.sequence import pad_sequences\n",
        "from tensorflow.keras.utils import to_categorical\n",
        "from sklearn.model_selection import train_test_split\n",
        "\n",
        "import numpy as np\n",
        "import urllib.request"
      ],
      "execution_count": null,
      "outputs": []
    },
    {
      "cell_type": "markdown",
      "metadata": {
        "id": "LDgF2DTOeih2"
      },
      "source": [
        "### 데이터 준비"
      ]
    },
    {
      "cell_type": "markdown",
      "metadata": {
        "id": "JZKtNz4OwI1C"
      },
      "source": [
        "* 공개된 개체명 인식 데이터셋을 이용\n",
        "  + https://raw.githubusercontent.com/Franck-Dernoncourt/NeuroNER/master/neuroner/data/conll2003/en/train.txt\n",
        "* 해당 데이터는 단어-개체명 형식으로 이루어져 있으므로 이를 가공해 데이터셋을 생성"
      ]
    },
    {
      "cell_type": "markdown",
      "source": [],
      "metadata": {
        "id": "CSHlVA5Z9ZYH"
      }
    },
    {
      "cell_type": "code",
      "metadata": {
        "id": "IXnAk3SFC87h",
        "colab": {
          "base_uri": "https://localhost:8080/"
        },
        "outputId": "abf16b97-3db6-424b-ca18-ea9cdf230bdd"
      },
      "source": [
        "tagged_sentences = []\n",
        "sentence = []\n",
        "\n",
        "with urllib.request.urlopen('https://raw.githubusercontent.com/Franck-Dernoncourt/NeuroNER/master/neuroner/data/conll2003/en/train.txt') as f:\n",
        "  for line in f: ##라인단위로 읽어오기\n",
        "    line = line.decode('utf-8') ##디코딩해주기\n",
        "    if len(line) == 0 or line.startswith('-DOCSTART') or line[0] == \"\\n\":\n",
        "      if len(sentence) > 0:\n",
        "        tagged_sentences.append(sentence)\n",
        "        sentence = []\n",
        "      ##아닌경우는 continue\n",
        "      continue\n",
        "    ##정상일 경우는 \n",
        "    splits = line.strip().split(' ') #스페이스 기준으로 split\n",
        "    word = splits[0].lower()\n",
        "    sentence.append([word, splits[-1]])\n",
        "\n",
        "print(len(tagged_sentences))\n",
        "print(tagged_sentences[0])\n",
        "\n",
        "\n"
      ],
      "execution_count": null,
      "outputs": [
        {
          "output_type": "stream",
          "name": "stdout",
          "text": [
            "14041\n",
            "[['eu', 'B-ORG'], ['rejects', 'O'], ['german', 'B-MISC'], ['call', 'O'], ['to', 'O'], ['boycott', 'O'], ['british', 'B-MISC'], ['lamb', 'O'], ['.', 'O']]\n"
          ]
        }
      ]
    },
    {
      "cell_type": "code",
      "source": [],
      "metadata": {
        "colab": {
          "base_uri": "https://localhost:8080/"
        },
        "id": "hZhwDwSP94Wh",
        "outputId": "da1ac672-854c-4e9a-c9a5-d7315f6c0c59"
      },
      "execution_count": null,
      "outputs": [
        {
          "output_type": "execute_result",
          "data": {
            "text/plain": [
              "[]"
            ]
          },
          "metadata": {},
          "execution_count": 20
        }
      ]
    },
    {
      "cell_type": "markdown",
      "metadata": {
        "id": "iq3VOetBewLN"
      },
      "source": [
        "### 데이터 전처리"
      ]
    },
    {
      "cell_type": "markdown",
      "metadata": {
        "id": "5HTqk1LJwcFm"
      },
      "source": [
        "* 단어와 개체명 태그를 분리해서 데이터를 구성"
      ]
    },
    {
      "cell_type": "code",
      "metadata": {
        "id": "nvsvx1q8C9BP"
      },
      "source": [
        "sentences, ner_tags = [], []\n",
        "for tagged_sentence in tagged_sentences:\n",
        "  sentence, tag_info = zip(*tagged_sentence) \n",
        "  ##tagged_sentences에서 하나씩 가져와서 분류하기\n",
        "  sentences.append(list(sentence)) #단어정보만 \n",
        "  ner_tags.append(list(tag_info))  #개체명 태그정보만 있음\n"
      ],
      "execution_count": null,
      "outputs": []
    },
    {
      "cell_type": "markdown",
      "metadata": {
        "id": "flb_gBeGwqdA"
      },
      "source": [
        "* 정제 및 빈도 수가 높은 상위 단어들만 추출하기 위해 토큰화 작업"
      ]
    },
    {
      "cell_type": "code",
      "metadata": {
        "id": "WIFAktdLDJZj"
      },
      "source": [
        "## 토크나이저 지정\n",
        "\n",
        "#train tokenizer\n",
        "max_words = 4000\n",
        "src_tokenizer = Tokenizer(num_words = max_words, oov_token='OOV')\n",
        "src_tokenizer.fit_on_texts(sentences)\n",
        "\n",
        "#target tokenizer\n",
        "tar_tokenizer = Tokenizer()\n",
        "tar_tokenizer.fit_on_texts(ner_tags)"
      ],
      "execution_count": null,
      "outputs": []
    },
    {
      "cell_type": "code",
      "source": [
        "tar_tokenizer.word_index"
      ],
      "metadata": {
        "colab": {
          "base_uri": "https://localhost:8080/"
        },
        "id": "8DL57x11DakT",
        "outputId": "b908b82b-6da1-4964-9ca4-aa4757df85a8"
      },
      "execution_count": null,
      "outputs": [
        {
          "output_type": "execute_result",
          "data": {
            "text/plain": [
              "{'o': 1,\n",
              " 'b-loc': 2,\n",
              " 'b-per': 3,\n",
              " 'b-org': 4,\n",
              " 'i-per': 5,\n",
              " 'i-org': 6,\n",
              " 'b-misc': 7,\n",
              " 'i-loc': 8,\n",
              " 'i-misc': 9}"
            ]
          },
          "metadata": {},
          "execution_count": 26
        }
      ]
    },
    {
      "cell_type": "code",
      "metadata": {
        "id": "jsOP0gUdDL6g",
        "colab": {
          "base_uri": "https://localhost:8080/"
        },
        "outputId": "4199aa06-f9f9-4306-b013-25540d66f8ee"
      },
      "source": [
        "vocab_size = max_words\n",
        "tag_size = len(tar_tokenizer.word_index) + 1 #전체 타겟의 토크나이저의 인덱스 +1\n",
        "#tar_tokenizer.word_index 바로 위에서 확인\n",
        "\n",
        "print(vocab_size)\n",
        "print(tag_size)"
      ],
      "execution_count": null,
      "outputs": [
        {
          "output_type": "stream",
          "name": "stdout",
          "text": [
            "4000\n",
            "10\n"
          ]
        }
      ]
    },
    {
      "cell_type": "markdown",
      "metadata": {
        "id": "q5dr-rJMxFV1"
      },
      "source": [
        "* 데이터를 학습에 활용하기 위해 데이터를 배열로 변환\n",
        "* 해당 작업은 토큰화 툴의 `texts_to_sequences()`를 통해 수행"
      ]
    },
    {
      "cell_type": "code",
      "metadata": {
        "id": "dTUzeqW-DNdv",
        "colab": {
          "base_uri": "https://localhost:8080/"
        },
        "outputId": "eb70b261-e005-4215-b7c5-f33f60b5b4e8"
      },
      "source": [
        "X_train = src_tokenizer.texts_to_sequences(sentences) ##단어들\n",
        "y_train = tar_tokenizer.texts_to_sequences(ner_tags) ##개체명\n",
        "print('X_train.shape : ', len(X_train))\n",
        "print('y_train.shape : ', len(y_train))"
      ],
      "execution_count": null,
      "outputs": [
        {
          "output_type": "stream",
          "name": "stdout",
          "text": [
            "X_train.shape :  14041\n",
            "y_train.shape :  14041\n"
          ]
        }
      ]
    },
    {
      "cell_type": "code",
      "source": [
        "sentences[0], ner_tags[0]"
      ],
      "metadata": {
        "colab": {
          "base_uri": "https://localhost:8080/"
        },
        "id": "tlXCE1knBzUy",
        "outputId": "d1137ba1-8530-44f4-a163-6f2cfd0159e1"
      },
      "execution_count": null,
      "outputs": [
        {
          "output_type": "execute_result",
          "data": {
            "text/plain": [
              "(['eu', 'rejects', 'german', 'call', 'to', 'boycott', 'british', 'lamb', '.'],\n",
              " ['B-ORG', 'O', 'B-MISC', 'O', 'O', 'O', 'B-MISC', 'O', 'O'])"
            ]
          },
          "metadata": {},
          "execution_count": 29
        }
      ]
    },
    {
      "cell_type": "code",
      "source": [
        "X_train[0], y_train[0]"
      ],
      "metadata": {
        "colab": {
          "base_uri": "https://localhost:8080/"
        },
        "id": "Bg-5sIxfBw73",
        "outputId": "df559144-f343-4532-f988-359055ae8083"
      },
      "execution_count": null,
      "outputs": [
        {
          "output_type": "execute_result",
          "data": {
            "text/plain": [
              "([989, 1, 205, 629, 7, 3939, 216, 1, 3], [4, 1, 7, 1, 1, 1, 7, 1, 1])"
            ]
          },
          "metadata": {},
          "execution_count": 30
        }
      ]
    },
    {
      "cell_type": "code",
      "source": [
        "print(len(X_train))\n",
        "print(len(y_train))"
      ],
      "metadata": {
        "colab": {
          "base_uri": "https://localhost:8080/"
        },
        "id": "hx28ifhT_ne5",
        "outputId": "da377065-cb6c-4771-ee1c-f20a530035b0"
      },
      "execution_count": null,
      "outputs": [
        {
          "output_type": "stream",
          "name": "stdout",
          "text": [
            "14041\n",
            "14041\n"
          ]
        }
      ]
    },
    {
      "cell_type": "markdown",
      "metadata": {
        "id": "klstjOu4xQmL"
      },
      "source": [
        "패딩을 하자자\n",
        "* 학습에 투입할 때는 동일한 길이를 가져야 하므로, 지정해둔 최대 길이에 맞춰 모든 데이터를 동일한 길이로 맞춰줌\n",
        "* 일반적으로 길이를 맞출 때는 모자란 길이만큼 0을 추가\n"
      ]
    },
    {
      "cell_type": "code",
      "metadata": {
        "id": "jwvNulj2DO9Z",
        "colab": {
          "base_uri": "https://localhost:8080/"
        },
        "outputId": "fadeac3b-bf00-4e0a-d625-43785e49f051"
      },
      "source": [
        "max_len = 70\n",
        "X_train = pad_sequences(X_train, padding='post', maxlen = max_len)\n",
        "##패딩을 뒤에다 붙임 : post\n",
        "\n",
        "y_train = pad_sequences(y_train, padding='post', maxlen= max_len)\n",
        "\n",
        "print('X_train크기 : ', X_train.shape)\n",
        "print('y_train크기 : ', y_train.shape)"
      ],
      "execution_count": null,
      "outputs": [
        {
          "output_type": "stream",
          "name": "stdout",
          "text": [
            "X_train크기 :  (14041, 70)\n",
            "y_train크기 :  (14041, 70)\n"
          ]
        }
      ]
    },
    {
      "cell_type": "code",
      "source": [
        "X_train[0], y_train[0] ##padding='post'를 통해서 다 뒤에붙은걸 알 수 있음."
      ],
      "metadata": {
        "colab": {
          "base_uri": "https://localhost:8080/"
        },
        "id": "kehFyxBDDAuj",
        "outputId": "ed536b4c-956e-4503-f941-7c2a1850083e"
      },
      "execution_count": null,
      "outputs": [
        {
          "output_type": "execute_result",
          "data": {
            "text/plain": [
              "(array([ 989,    1,  205,  629,    7, 3939,  216,    1,    3,    0,    0,\n",
              "           0,    0,    0,    0,    0,    0,    0,    0,    0,    0,    0,\n",
              "           0,    0,    0,    0,    0,    0,    0,    0,    0,    0,    0,\n",
              "           0,    0,    0,    0,    0,    0,    0,    0,    0,    0,    0,\n",
              "           0,    0,    0,    0,    0,    0,    0,    0,    0,    0,    0,\n",
              "           0,    0,    0,    0,    0,    0,    0,    0,    0,    0,    0,\n",
              "           0,    0,    0,    0], dtype=int32),\n",
              " array([4, 1, 7, 1, 1, 1, 7, 1, 1, 0, 0, 0, 0, 0, 0, 0, 0, 0, 0, 0, 0, 0,\n",
              "        0, 0, 0, 0, 0, 0, 0, 0, 0, 0, 0, 0, 0, 0, 0, 0, 0, 0, 0, 0, 0, 0,\n",
              "        0, 0, 0, 0, 0, 0, 0, 0, 0, 0, 0, 0, 0, 0, 0, 0, 0, 0, 0, 0, 0, 0,\n",
              "        0, 0, 0, 0], dtype=int32))"
            ]
          },
          "metadata": {},
          "execution_count": 33
        }
      ]
    },
    {
      "cell_type": "markdown",
      "metadata": {
        "id": "vYK8UDkxxefx"
      },
      "source": [
        "* 훈련, 실험 데이터 분리 및 원 핫 인코딩을 시행"
      ]
    },
    {
      "cell_type": "code",
      "source": [
        "tag_size"
      ],
      "metadata": {
        "colab": {
          "base_uri": "https://localhost:8080/"
        },
        "id": "FifSmaviDNey",
        "outputId": "5cd7de6b-891d-494c-a709-870477160cc1"
      },
      "execution_count": null,
      "outputs": [
        {
          "output_type": "execute_result",
          "data": {
            "text/plain": [
              "10"
            ]
          },
          "metadata": {},
          "execution_count": 19
        }
      ]
    },
    {
      "cell_type": "code",
      "metadata": {
        "id": "IVtO_DApDR64",
        "colab": {
          "base_uri": "https://localhost:8080/"
        },
        "outputId": "b529b4a0-ac7e-4af7-81f9-7bd3fbdaa3ef"
      },
      "source": [
        "## X_train -> X_train, X_test로 분리 = 5:1\n",
        "## y_train -> y_train, y_test로 분리리 = 5:1\n",
        "X_train, X_test, y_train, y_test = train_test_split(X_train, y_train, test_size=0.2, random_state=111)\n",
        "\n",
        "print('X_train.shape :', X_train.shape) #  (11232, 70)\n",
        "print('X_test.shape' ,X_test.shape) # (2809, 70)\n",
        "print('y_train.shape : ',y_train.shape) #  (11232, 70)\n",
        "print('y_test.shape : ',y_test.shape) #  (2809, 70)\n",
        "print('\\n')\n",
        "print('y_train[0] : ', y_train[0]) \n",
        "#  [3 1 1 1 1 1 1 1 0 0 0 0 0 0 0 0 0 0 0 0 0 0 0 0 0 0 0 0 0 0 0 0 0 0 0 0 0\n",
        "#   0 0 0 0 0 0 0 0 0 0 0 0 0 0 0 0 0 0 0 0 0 0 0 0 0 0 0 0 0 0 0 0 0]\n",
        "\n",
        "print('y_test[0] : ',y_test[0])\n",
        "#  [1 1 1 1 1 1 3 1 1 0 0 0 0 0 0 0 0 0 0 0 0 0 0 0 0 0 0 0 0 0 0 0 0 0 0 0 0\n",
        "#   0 0 0 0 0 0 0 0 0 0 0 0 0 0 0 0 0 0 0 0 0 0 0 0 0 0 0 0 0 0 0 0 0]\n",
        "\n",
        "\n",
        "y_train = to_categorical(y_train, num_classes=tag_size) \n",
        "#y_train이 [3,1,0] -> [[0,0,0,1,0,0,0,0,0,0], #원-핫-인코딩\n",
        "#                      [0,1,0,0,0,0,0,0,0,0],\n",
        "#                      [0,0,0,1,0,0,0,0,0,0]] 이런 식으로 바꾸기\n",
        "y_test = to_categorical(y_test, num_classes=tag_size)\n",
        "print('\\n')\n",
        "print('after categorical y_train[0]: ', y_train[0]) \n",
        "print('after categorical y_test[0]: ', y_test[0])\n"
      ],
      "execution_count": null,
      "outputs": [
        {
          "output_type": "stream",
          "name": "stdout",
          "text": [
            "X_train.shape : (11232, 70)\n",
            "X_test.shape (2809, 70)\n",
            "y_train.shape :  (11232, 70)\n",
            "y_test.shape :  (2809, 70)\n",
            "\n",
            "\n",
            "y_train[0] :  [3 1 1 1 1 1 1 1 0 0 0 0 0 0 0 0 0 0 0 0 0 0 0 0 0 0 0 0 0 0 0 0 0 0 0 0 0\n",
            " 0 0 0 0 0 0 0 0 0 0 0 0 0 0 0 0 0 0 0 0 0 0 0 0 0 0 0 0 0 0 0 0 0]\n",
            "y_test[0] :  [1 1 1 1 1 1 3 1 1 0 0 0 0 0 0 0 0 0 0 0 0 0 0 0 0 0 0 0 0 0 0 0 0 0 0 0 0\n",
            " 0 0 0 0 0 0 0 0 0 0 0 0 0 0 0 0 0 0 0 0 0 0 0 0 0 0 0 0 0 0 0 0 0]\n",
            "\n",
            "\n",
            "after categorical y_train[0]:  [[0. 0. 0. 1. 0. 0. 0. 0. 0. 0.]\n",
            " [0. 1. 0. 0. 0. 0. 0. 0. 0. 0.]\n",
            " [0. 1. 0. 0. 0. 0. 0. 0. 0. 0.]\n",
            " [0. 1. 0. 0. 0. 0. 0. 0. 0. 0.]\n",
            " [0. 1. 0. 0. 0. 0. 0. 0. 0. 0.]\n",
            " [0. 1. 0. 0. 0. 0. 0. 0. 0. 0.]\n",
            " [0. 1. 0. 0. 0. 0. 0. 0. 0. 0.]\n",
            " [0. 1. 0. 0. 0. 0. 0. 0. 0. 0.]\n",
            " [1. 0. 0. 0. 0. 0. 0. 0. 0. 0.]\n",
            " [1. 0. 0. 0. 0. 0. 0. 0. 0. 0.]\n",
            " [1. 0. 0. 0. 0. 0. 0. 0. 0. 0.]\n",
            " [1. 0. 0. 0. 0. 0. 0. 0. 0. 0.]\n",
            " [1. 0. 0. 0. 0. 0. 0. 0. 0. 0.]\n",
            " [1. 0. 0. 0. 0. 0. 0. 0. 0. 0.]\n",
            " [1. 0. 0. 0. 0. 0. 0. 0. 0. 0.]\n",
            " [1. 0. 0. 0. 0. 0. 0. 0. 0. 0.]\n",
            " [1. 0. 0. 0. 0. 0. 0. 0. 0. 0.]\n",
            " [1. 0. 0. 0. 0. 0. 0. 0. 0. 0.]\n",
            " [1. 0. 0. 0. 0. 0. 0. 0. 0. 0.]\n",
            " [1. 0. 0. 0. 0. 0. 0. 0. 0. 0.]\n",
            " [1. 0. 0. 0. 0. 0. 0. 0. 0. 0.]\n",
            " [1. 0. 0. 0. 0. 0. 0. 0. 0. 0.]\n",
            " [1. 0. 0. 0. 0. 0. 0. 0. 0. 0.]\n",
            " [1. 0. 0. 0. 0. 0. 0. 0. 0. 0.]\n",
            " [1. 0. 0. 0. 0. 0. 0. 0. 0. 0.]\n",
            " [1. 0. 0. 0. 0. 0. 0. 0. 0. 0.]\n",
            " [1. 0. 0. 0. 0. 0. 0. 0. 0. 0.]\n",
            " [1. 0. 0. 0. 0. 0. 0. 0. 0. 0.]\n",
            " [1. 0. 0. 0. 0. 0. 0. 0. 0. 0.]\n",
            " [1. 0. 0. 0. 0. 0. 0. 0. 0. 0.]\n",
            " [1. 0. 0. 0. 0. 0. 0. 0. 0. 0.]\n",
            " [1. 0. 0. 0. 0. 0. 0. 0. 0. 0.]\n",
            " [1. 0. 0. 0. 0. 0. 0. 0. 0. 0.]\n",
            " [1. 0. 0. 0. 0. 0. 0. 0. 0. 0.]\n",
            " [1. 0. 0. 0. 0. 0. 0. 0. 0. 0.]\n",
            " [1. 0. 0. 0. 0. 0. 0. 0. 0. 0.]\n",
            " [1. 0. 0. 0. 0. 0. 0. 0. 0. 0.]\n",
            " [1. 0. 0. 0. 0. 0. 0. 0. 0. 0.]\n",
            " [1. 0. 0. 0. 0. 0. 0. 0. 0. 0.]\n",
            " [1. 0. 0. 0. 0. 0. 0. 0. 0. 0.]\n",
            " [1. 0. 0. 0. 0. 0. 0. 0. 0. 0.]\n",
            " [1. 0. 0. 0. 0. 0. 0. 0. 0. 0.]\n",
            " [1. 0. 0. 0. 0. 0. 0. 0. 0. 0.]\n",
            " [1. 0. 0. 0. 0. 0. 0. 0. 0. 0.]\n",
            " [1. 0. 0. 0. 0. 0. 0. 0. 0. 0.]\n",
            " [1. 0. 0. 0. 0. 0. 0. 0. 0. 0.]\n",
            " [1. 0. 0. 0. 0. 0. 0. 0. 0. 0.]\n",
            " [1. 0. 0. 0. 0. 0. 0. 0. 0. 0.]\n",
            " [1. 0. 0. 0. 0. 0. 0. 0. 0. 0.]\n",
            " [1. 0. 0. 0. 0. 0. 0. 0. 0. 0.]\n",
            " [1. 0. 0. 0. 0. 0. 0. 0. 0. 0.]\n",
            " [1. 0. 0. 0. 0. 0. 0. 0. 0. 0.]\n",
            " [1. 0. 0. 0. 0. 0. 0. 0. 0. 0.]\n",
            " [1. 0. 0. 0. 0. 0. 0. 0. 0. 0.]\n",
            " [1. 0. 0. 0. 0. 0. 0. 0. 0. 0.]\n",
            " [1. 0. 0. 0. 0. 0. 0. 0. 0. 0.]\n",
            " [1. 0. 0. 0. 0. 0. 0. 0. 0. 0.]\n",
            " [1. 0. 0. 0. 0. 0. 0. 0. 0. 0.]\n",
            " [1. 0. 0. 0. 0. 0. 0. 0. 0. 0.]\n",
            " [1. 0. 0. 0. 0. 0. 0. 0. 0. 0.]\n",
            " [1. 0. 0. 0. 0. 0. 0. 0. 0. 0.]\n",
            " [1. 0. 0. 0. 0. 0. 0. 0. 0. 0.]\n",
            " [1. 0. 0. 0. 0. 0. 0. 0. 0. 0.]\n",
            " [1. 0. 0. 0. 0. 0. 0. 0. 0. 0.]\n",
            " [1. 0. 0. 0. 0. 0. 0. 0. 0. 0.]\n",
            " [1. 0. 0. 0. 0. 0. 0. 0. 0. 0.]\n",
            " [1. 0. 0. 0. 0. 0. 0. 0. 0. 0.]\n",
            " [1. 0. 0. 0. 0. 0. 0. 0. 0. 0.]\n",
            " [1. 0. 0. 0. 0. 0. 0. 0. 0. 0.]\n",
            " [1. 0. 0. 0. 0. 0. 0. 0. 0. 0.]]\n",
            "after categorical y_test[0]:  [[0. 1. 0. 0. 0. 0. 0. 0. 0. 0.]\n",
            " [0. 1. 0. 0. 0. 0. 0. 0. 0. 0.]\n",
            " [0. 1. 0. 0. 0. 0. 0. 0. 0. 0.]\n",
            " [0. 1. 0. 0. 0. 0. 0. 0. 0. 0.]\n",
            " [0. 1. 0. 0. 0. 0. 0. 0. 0. 0.]\n",
            " [0. 1. 0. 0. 0. 0. 0. 0. 0. 0.]\n",
            " [0. 0. 0. 1. 0. 0. 0. 0. 0. 0.]\n",
            " [0. 1. 0. 0. 0. 0. 0. 0. 0. 0.]\n",
            " [0. 1. 0. 0. 0. 0. 0. 0. 0. 0.]\n",
            " [1. 0. 0. 0. 0. 0. 0. 0. 0. 0.]\n",
            " [1. 0. 0. 0. 0. 0. 0. 0. 0. 0.]\n",
            " [1. 0. 0. 0. 0. 0. 0. 0. 0. 0.]\n",
            " [1. 0. 0. 0. 0. 0. 0. 0. 0. 0.]\n",
            " [1. 0. 0. 0. 0. 0. 0. 0. 0. 0.]\n",
            " [1. 0. 0. 0. 0. 0. 0. 0. 0. 0.]\n",
            " [1. 0. 0. 0. 0. 0. 0. 0. 0. 0.]\n",
            " [1. 0. 0. 0. 0. 0. 0. 0. 0. 0.]\n",
            " [1. 0. 0. 0. 0. 0. 0. 0. 0. 0.]\n",
            " [1. 0. 0. 0. 0. 0. 0. 0. 0. 0.]\n",
            " [1. 0. 0. 0. 0. 0. 0. 0. 0. 0.]\n",
            " [1. 0. 0. 0. 0. 0. 0. 0. 0. 0.]\n",
            " [1. 0. 0. 0. 0. 0. 0. 0. 0. 0.]\n",
            " [1. 0. 0. 0. 0. 0. 0. 0. 0. 0.]\n",
            " [1. 0. 0. 0. 0. 0. 0. 0. 0. 0.]\n",
            " [1. 0. 0. 0. 0. 0. 0. 0. 0. 0.]\n",
            " [1. 0. 0. 0. 0. 0. 0. 0. 0. 0.]\n",
            " [1. 0. 0. 0. 0. 0. 0. 0. 0. 0.]\n",
            " [1. 0. 0. 0. 0. 0. 0. 0. 0. 0.]\n",
            " [1. 0. 0. 0. 0. 0. 0. 0. 0. 0.]\n",
            " [1. 0. 0. 0. 0. 0. 0. 0. 0. 0.]\n",
            " [1. 0. 0. 0. 0. 0. 0. 0. 0. 0.]\n",
            " [1. 0. 0. 0. 0. 0. 0. 0. 0. 0.]\n",
            " [1. 0. 0. 0. 0. 0. 0. 0. 0. 0.]\n",
            " [1. 0. 0. 0. 0. 0. 0. 0. 0. 0.]\n",
            " [1. 0. 0. 0. 0. 0. 0. 0. 0. 0.]\n",
            " [1. 0. 0. 0. 0. 0. 0. 0. 0. 0.]\n",
            " [1. 0. 0. 0. 0. 0. 0. 0. 0. 0.]\n",
            " [1. 0. 0. 0. 0. 0. 0. 0. 0. 0.]\n",
            " [1. 0. 0. 0. 0. 0. 0. 0. 0. 0.]\n",
            " [1. 0. 0. 0. 0. 0. 0. 0. 0. 0.]\n",
            " [1. 0. 0. 0. 0. 0. 0. 0. 0. 0.]\n",
            " [1. 0. 0. 0. 0. 0. 0. 0. 0. 0.]\n",
            " [1. 0. 0. 0. 0. 0. 0. 0. 0. 0.]\n",
            " [1. 0. 0. 0. 0. 0. 0. 0. 0. 0.]\n",
            " [1. 0. 0. 0. 0. 0. 0. 0. 0. 0.]\n",
            " [1. 0. 0. 0. 0. 0. 0. 0. 0. 0.]\n",
            " [1. 0. 0. 0. 0. 0. 0. 0. 0. 0.]\n",
            " [1. 0. 0. 0. 0. 0. 0. 0. 0. 0.]\n",
            " [1. 0. 0. 0. 0. 0. 0. 0. 0. 0.]\n",
            " [1. 0. 0. 0. 0. 0. 0. 0. 0. 0.]\n",
            " [1. 0. 0. 0. 0. 0. 0. 0. 0. 0.]\n",
            " [1. 0. 0. 0. 0. 0. 0. 0. 0. 0.]\n",
            " [1. 0. 0. 0. 0. 0. 0. 0. 0. 0.]\n",
            " [1. 0. 0. 0. 0. 0. 0. 0. 0. 0.]\n",
            " [1. 0. 0. 0. 0. 0. 0. 0. 0. 0.]\n",
            " [1. 0. 0. 0. 0. 0. 0. 0. 0. 0.]\n",
            " [1. 0. 0. 0. 0. 0. 0. 0. 0. 0.]\n",
            " [1. 0. 0. 0. 0. 0. 0. 0. 0. 0.]\n",
            " [1. 0. 0. 0. 0. 0. 0. 0. 0. 0.]\n",
            " [1. 0. 0. 0. 0. 0. 0. 0. 0. 0.]\n",
            " [1. 0. 0. 0. 0. 0. 0. 0. 0. 0.]\n",
            " [1. 0. 0. 0. 0. 0. 0. 0. 0. 0.]\n",
            " [1. 0. 0. 0. 0. 0. 0. 0. 0. 0.]\n",
            " [1. 0. 0. 0. 0. 0. 0. 0. 0. 0.]\n",
            " [1. 0. 0. 0. 0. 0. 0. 0. 0. 0.]\n",
            " [1. 0. 0. 0. 0. 0. 0. 0. 0. 0.]\n",
            " [1. 0. 0. 0. 0. 0. 0. 0. 0. 0.]\n",
            " [1. 0. 0. 0. 0. 0. 0. 0. 0. 0.]\n",
            " [1. 0. 0. 0. 0. 0. 0. 0. 0. 0.]\n",
            " [1. 0. 0. 0. 0. 0. 0. 0. 0. 0.]]\n"
          ]
        }
      ]
    },
    {
      "cell_type": "code",
      "source": [
        "print(X_train.shape) #(11232, 70)\n",
        "print(y_train.shape) #(11232, 70, 10) #\n",
        "print(X_test.shape) #(2809, 70)\n",
        "print(y_test.shape) #(2809, 70, 10)"
      ],
      "metadata": {
        "colab": {
          "base_uri": "https://localhost:8080/"
        },
        "id": "6xjZjmMZBavK",
        "outputId": "9b82bde5-b108-4196-c791-92458a4578b4"
      },
      "execution_count": null,
      "outputs": [
        {
          "output_type": "stream",
          "name": "stdout",
          "text": [
            "(11232, 70)\n",
            "(11232, 70, 10)\n",
            "(2809, 70)\n",
            "(2809, 70, 10)\n"
          ]
        }
      ]
    },
    {
      "cell_type": "markdown",
      "source": [
        "- padding때문에 70이 되고,\n",
        "- y_train과 y_test는 tagging때문에 10이 들어가 있다. "
      ],
      "metadata": {
        "id": "MuvtzqUw22PT"
      }
    },
    {
      "cell_type": "markdown",
      "metadata": {
        "id": "CGqT1AGPxjKV"
      },
      "source": [
        "* 최종적으로 생성된 데이터셋의 크기는 다음과 같음\n",
        "* 이제야 학습을 돌릴 준비 완료!!!"
      ]
    },
    {
      "cell_type": "markdown",
      "metadata": {
        "id": "C8h9L6H-e0Vl"
      },
      "source": [
        "### 모델 구축 및 학습"
      ]
    },
    {
      "cell_type": "markdown",
      "metadata": {
        "id": "eMLRWTzOxzf5"
      },
      "source": [
        "* 모델 구축에는 `keras`를 이용\n",
        "* 해당 작업에 필요한 함수들을 추가로 import"
      ]
    },
    {
      "cell_type": "code",
      "metadata": {
        "id": "AQzpED-KDW3f"
      },
      "source": [
        "from keras.models import Sequential\n",
        "from keras.layers import Dense, Embedding, LSTM, Bidirectional, TimeDistributed\n",
        "from keras.optimizers import Adam"
      ],
      "execution_count": null,
      "outputs": []
    },
    {
      "cell_type": "markdown",
      "metadata": {
        "id": "A0r8yR7nx84S"
      },
      "source": [
        "모델의 구성\n",
        "\n",
        "1. 입력을 실수 벡터로 임베딩\n",
        "2. 양방향 LSTM 구성\n",
        "3. Dense layer를 통한 각 태그에 속할 확률 예측\n",
        "\n",
        "`TimeDistributed`는 상위 layer의 출력이 step에 따라 여러 개로 출력되어 이를 적절하게 분배해주는 역할\n"
      ]
    },
    {
      "cell_type": "markdown",
      "source": [
        "양방향 LSTM(다 대 다 구조의 LSTM, Bi-directional LSTM)\n",
        "- "
      ],
      "metadata": {
        "id": "VB9ytMKt3pqO"
      }
    },
    {
      "cell_type": "markdown",
      "source": [
        "timedistributed역할 구글링\n",
        "- https://m.blog.naver.com/PostView.naver?isHttpsRedirect=true&blogId=acelhj&logNo=221653390039\n",
        "\n",
        "- Keras 도큐멘트에 따르면 TimeDistributed는 시간의 조각(Temporal slice)를 만들어 준다.\n",
        "2.0에서는 그냥 Dense를 써도 된다.\n",
        "\n",
        "- (sample, time, width, length, channel) 를 TimeDistributed 를 사용하여 시간 차원을 따라서 (sample, width, length, channel) 로 만든다."
      ],
      "metadata": {
        "id": "lCsvKcQeHcaI"
      }
    },
    {
      "cell_type": "code",
      "source": [],
      "metadata": {
        "id": "PIAHbWMMHofr"
      },
      "execution_count": null,
      "outputs": []
    },
    {
      "cell_type": "code",
      "source": [
        "vocab_size, max_len"
      ],
      "metadata": {
        "colab": {
          "base_uri": "https://localhost:8080/"
        },
        "id": "wN8AJQIZFsOI",
        "outputId": "28dcee32-672a-440b-bc9c-26a9b0abba92"
      },
      "execution_count": null,
      "outputs": [
        {
          "output_type": "execute_result",
          "data": {
            "text/plain": [
              "(4000, 70)"
            ]
          },
          "metadata": {},
          "execution_count": 37
        }
      ]
    },
    {
      "cell_type": "code",
      "metadata": {
        "id": "w0VhAso8DYc4",
        "colab": {
          "base_uri": "https://localhost:8080/"
        },
        "outputId": "76fcd8e8-85ba-4f0a-9f4f-b6002c50472b"
      },
      "source": [
        "#####모델구성########\n",
        "model = Sequential()\n",
        "\n",
        "##처음에는 Embedding을 넣어줘야한다.\n",
        "model.add(Embedding(input_dim=vocab_size, output_dim=128, input_length=max_len, mask_zero=True))\n",
        "##make_zero=True :  숫자 0은 연산에서 제외시킨다는 옵션\n",
        "###주로 padding을 해서 0이 많아졌을때 사용.\n",
        "\n",
        "##Bidirectional\n",
        "model.add(Bidirectional(LSTM(256, return_sequences=True)))\n",
        "\n",
        "model.add(TimeDistributed(Dense(tag_size, activation='softmax'))) ##다중분류문제랑 똑같음\n",
        "\n",
        "model.summary()\n",
        "\n",
        "\n",
        "\n",
        "\n",
        "\n",
        "\n"
      ],
      "execution_count": null,
      "outputs": [
        {
          "output_type": "stream",
          "name": "stdout",
          "text": [
            "Model: \"sequential\"\n",
            "_________________________________________________________________\n",
            " Layer (type)                Output Shape              Param #   \n",
            "=================================================================\n",
            " embedding (Embedding)       (None, 70, 128)           512000    \n",
            "                                                                 \n",
            " bidirectional (Bidirectiona  (None, 70, 512)          788480    \n",
            " l)                                                              \n",
            "                                                                 \n",
            " time_distributed (TimeDistr  (None, 70, 10)           5130      \n",
            " ibuted)                                                         \n",
            "                                                                 \n",
            "=================================================================\n",
            "Total params: 1,305,610\n",
            "Trainable params: 1,305,610\n",
            "Non-trainable params: 0\n",
            "_________________________________________________________________\n"
          ]
        }
      ]
    },
    {
      "cell_type": "markdown",
      "source": [
        "- 임베딩 사이즈 : 128\n",
        "- 파라미터 수도 꽤 된다. \n",
        "  - Bidirectional을 사용했기 때문에!!\n",
        "- 양방향 LSTM은 모든 시점에 대해서 개체명 레이블 개수만큼의 선택지 중 하나를 예측하는 다중 클래스 분류 문제를 수행하는 모델\n"
      ],
      "metadata": {
        "id": "onLCL5TVGsKg"
      }
    },
    {
      "cell_type": "markdown",
      "metadata": {
        "id": "FrpUv_mxyqzR"
      },
      "source": [
        "* 모델 컴파일 및 학습 진행, 평가"
      ]
    },
    {
      "cell_type": "code",
      "metadata": {
        "id": "ARUqZJwHDZuT",
        "colab": {
          "base_uri": "https://localhost:8080/"
        },
        "outputId": "2a81ced6-0357-46b4-a338-f9103c5e3c13"
      },
      "source": [
        "model.compile(loss='categorical_crossentropy',\n",
        "              optimizer=Adam(0.001),\n",
        "              metrics=['accuracy'])\n",
        "model.fit(X_train, y_train, batch_size=128, epochs=3, validation_data=(X_test, y_test))"
      ],
      "execution_count": null,
      "outputs": [
        {
          "output_type": "stream",
          "name": "stdout",
          "text": [
            "Epoch 1/3\n",
            "88/88 [==============================] - 175s 2s/step - loss: 0.1855 - accuracy: 0.8254 - val_loss: 0.1281 - val_accuracy: 0.8330\n",
            "Epoch 2/3\n",
            "88/88 [==============================] - 151s 2s/step - loss: 0.0986 - accuracy: 0.8555 - val_loss: 0.0773 - val_accuracy: 0.8816\n",
            "Epoch 3/3\n",
            "88/88 [==============================] - 149s 2s/step - loss: 0.0661 - accuracy: 0.9024 - val_loss: 0.0567 - val_accuracy: 0.9181\n"
          ]
        },
        {
          "output_type": "execute_result",
          "data": {
            "text/plain": [
              "<keras.callbacks.History at 0x7f7b482ab520>"
            ]
          },
          "metadata": {},
          "execution_count": 39
        }
      ]
    },
    {
      "cell_type": "code",
      "metadata": {
        "id": "iVQsKQwlDfag",
        "colab": {
          "base_uri": "https://localhost:8080/"
        },
        "outputId": "05d1fa02-5601-4e96-e723-3c4a327b6031"
      },
      "source": [
        "model.evaluate(X_test, y_test)"
      ],
      "execution_count": null,
      "outputs": [
        {
          "output_type": "stream",
          "name": "stdout",
          "text": [
            "88/88 [==============================] - 17s 188ms/step - loss: 0.0567 - accuracy: 0.9181\n"
          ]
        },
        {
          "output_type": "execute_result",
          "data": {
            "text/plain": [
              "[0.05671876668930054, 0.9181334972381592]"
            ]
          },
          "metadata": {},
          "execution_count": 40
        }
      ]
    },
    {
      "cell_type": "markdown",
      "metadata": {
        "id": "OO13spS4fA27"
      },
      "source": [
        "### 학습한 모델을 통한 예측"
      ]
    },
    {
      "cell_type": "markdown",
      "metadata": {
        "id": "KeLrlYTOyy3P"
      },
      "source": [
        "* 예측을 확인하기 위해서 인덱스를 단어로 변환해줄 사전이 필요\n",
        "* 사전은 토큰화 툴의 사전을 이용"
      ]
    },
    {
      "cell_type": "code",
      "metadata": {
        "id": "fQx8MLCZvdI0"
      },
      "source": [
        "idx2word = src_tokenizer.index_word\n",
        "idx2ner = tar_tokenizer.index_word\n",
        "idx2ner[0] = 'PAD'#'PAD' : 패딩된 툴"
      ],
      "execution_count": null,
      "outputs": []
    },
    {
      "cell_type": "markdown",
      "metadata": {
        "id": "j4EQgmTIzBHp"
      },
      "source": [
        "* 예측 시각화"
      ]
    },
    {
      "cell_type": "code",
      "source": [
        "np.argmax(y_test[10],-1)"
      ],
      "metadata": {
        "colab": {
          "base_uri": "https://localhost:8080/"
        },
        "id": "Ri87OEITLpf6",
        "outputId": "d85c4ab3-d78b-4b4b-8390-c3351c802f80"
      },
      "execution_count": null,
      "outputs": [
        {
          "output_type": "execute_result",
          "data": {
            "text/plain": [
              "array([3, 5, 1, 2, 1, 1, 1, 1, 1, 1, 1, 1, 1, 1, 1, 1, 1, 1, 1, 1, 1, 1,\n",
              "       1, 1, 1, 1, 1, 1, 0, 0, 0, 0, 0, 0, 0, 0, 0, 0, 0, 0, 0, 0, 0, 0,\n",
              "       0, 0, 0, 0, 0, 0, 0, 0, 0, 0, 0, 0, 0, 0, 0, 0, 0, 0, 0, 0, 0, 0,\n",
              "       0, 0, 0, 0])"
            ]
          },
          "metadata": {},
          "execution_count": 42
        }
      ]
    },
    {
      "cell_type": "code",
      "metadata": {
        "id": "BsHL9I4yDgpW",
        "colab": {
          "base_uri": "https://localhost:8080/"
        },
        "outputId": "e8efa966-9844-415e-e690-168969a08744"
      },
      "source": [
        "\n",
        "i = 10 #10개를 보자\n",
        "y_predicted = model.predict(np.array([X_test[i]])) #10번째 predict값\n",
        "print(y_predicted)\n",
        "\n",
        "y_predicted = np.argmax(y_predicted, axis=-1)\n",
        "print('after argmax : ', y_predicted)\n",
        "\n",
        "true = np.argmax(y_test[i], -1)\n",
        "print('정답 개체명 :', true)\n",
        "\n",
        "print('출력 : {:15}:{:15}:{}'.format(\"단어\", \"실제값\", \"예측값\"))\n",
        "print('='*35)\n",
        "\n",
        "for w,t,pred in zip(X_test[i], true, y_predicted[0]):\n",
        "  if w != 0 :\n",
        "    print(\"{:17} : {:7} : {}\".format(idx2word[w], idx2ner[t].upper(), idx2ner[pred].upper()))\n",
        "\n",
        "  ##idx2word[w] :\n",
        "  ##idx2ner[t] : 해당하는 태깅값값\n",
        "  ##idx2ner[pred] : 예측한 개체명"
      ],
      "execution_count": null,
      "outputs": [
        {
          "output_type": "stream",
          "name": "stdout",
          "text": [
            "1/1 [==============================] - 4s 4s/step\n",
            "[[[2.16101267e-04 2.03590080e-01 4.10742611e-02 1.67077392e-01\n",
            "   3.26568604e-01 6.76828921e-02 1.03821427e-01 6.45565018e-02\n",
            "   1.04819946e-02 1.49308210e-02]\n",
            "  [3.05787602e-04 7.45386630e-02 1.42279327e-01 4.26489040e-02\n",
            "   2.83528626e-01 1.30194858e-01 1.61911160e-01 1.09455086e-01\n",
            "   3.34853306e-02 2.16522403e-02]\n",
            "  [3.35136901e-05 7.38236725e-01 3.75819975e-03 3.98812629e-03\n",
            "   3.04372385e-02 5.61094331e-03 1.73101276e-01 1.31761963e-02\n",
            "   9.72446799e-03 2.19333321e-02]\n",
            "  [3.65834348e-05 1.07065670e-03 8.30523670e-01 1.67304482e-02\n",
            "   4.90313955e-02 5.15993778e-03 1.60587914e-02 5.99287674e-02\n",
            "   1.66979209e-02 4.76173824e-03]\n",
            "  [3.65770035e-07 9.56261337e-01 4.51412998e-05 2.66820516e-05\n",
            "   3.56527598e-04 1.57622341e-03 2.98951548e-02 8.22482107e-05\n",
            "   3.74200614e-03 8.01431295e-03]\n",
            "  [2.82172063e-09 9.99570787e-01 2.56252247e-06 1.37695361e-06\n",
            "   5.34430910e-05 7.20287176e-07 2.97316205e-04 4.93455582e-06\n",
            "   5.14613657e-06 6.36695331e-05]\n",
            "  [1.73796941e-08 9.96506572e-01 1.96578243e-04 3.60315098e-05\n",
            "   1.91432086e-03 1.43268699e-06 6.43449719e-04 4.65504592e-04\n",
            "   2.71408226e-05 2.09005346e-04]\n",
            "  [1.30908206e-09 9.99549687e-01 4.10585517e-06 1.44645867e-06\n",
            "   7.03941259e-05 4.68185988e-07 2.20250673e-04 3.33084863e-05\n",
            "   1.16419296e-05 1.08529057e-04]\n",
            "  [1.74480352e-09 9.99247074e-01 1.08664208e-05 3.74871456e-06\n",
            "   2.20112837e-04 8.95605154e-08 2.29506695e-04 1.48108462e-04\n",
            "   7.02268335e-06 1.33412905e-04]\n",
            "  [6.27855172e-07 8.38831007e-01 1.61705390e-02 1.64743548e-03\n",
            "   3.49348783e-02 3.64267835e-05 1.10185519e-02 8.03928375e-02\n",
            "   2.69946805e-03 1.42682670e-02]\n",
            "  [7.98710342e-09 9.95305181e-01 3.43236825e-05 4.94400319e-06\n",
            "   1.20619508e-04 5.62546120e-06 2.00437149e-03 1.04054619e-04\n",
            "   3.42346844e-04 2.07853946e-03]\n",
            "  [1.15097520e-09 9.99531448e-01 4.50982952e-06 1.09320479e-06\n",
            "   6.74975818e-05 1.34237979e-07 2.10626531e-04 2.73630867e-05\n",
            "   8.52031644e-06 1.48751729e-04]\n",
            "  [2.66614819e-09 9.99038160e-01 1.70162893e-05 4.38634061e-06\n",
            "   3.22426698e-04 1.53864008e-07 2.87742849e-04 1.49979518e-04\n",
            "   1.13046326e-05 1.68879502e-04]\n",
            "  [1.33587728e-08 9.95022357e-01 3.69781483e-05 1.00817131e-04\n",
            "   1.34211092e-03 9.50577601e-07 1.32795202e-03 1.16090220e-03\n",
            "   6.72454626e-05 9.40589642e-04]\n",
            "  [3.49264496e-07 9.48788524e-01 3.49866948e-03 5.52447326e-03\n",
            "   1.85326599e-02 8.62554240e-04 6.31535007e-03 1.04615763e-02\n",
            "   1.31333806e-03 4.70258761e-03]\n",
            "  [4.18159340e-10 9.99611914e-01 1.56855322e-07 2.22638249e-07\n",
            "   6.06293770e-06 1.38626922e-06 2.53340782e-04 2.80518952e-06\n",
            "   1.34082838e-05 1.10706576e-04]\n",
            "  [2.46886733e-10 9.99868155e-01 1.40426539e-06 3.59200271e-06\n",
            "   5.41253685e-05 3.50614826e-08 4.56996531e-05 1.27040303e-05\n",
            "   5.81063205e-07 1.37515362e-05]\n",
            "  [1.56852551e-07 9.53661263e-01 4.12175758e-03 7.15948176e-03\n",
            "   2.14303322e-02 3.09942145e-04 1.52740034e-03 1.06841559e-02\n",
            "   2.52799538e-04 8.52856843e-04]\n",
            "  [3.48636592e-10 9.99750018e-01 1.41020067e-07 3.78198848e-07\n",
            "   5.22310529e-06 2.17604384e-06 1.59040093e-04 3.91341018e-06\n",
            "   1.16928923e-05 6.75057745e-05]\n",
            "  [2.24671437e-09 9.99472082e-01 1.94534296e-05 2.91150286e-06\n",
            "   2.24614778e-04 4.78620734e-07 1.54936526e-04 6.04534434e-05\n",
            "   6.55950907e-06 5.83893780e-05]\n",
            "  [4.82509172e-12 9.99994695e-01 1.01027418e-08 2.67359201e-09\n",
            "   5.30023954e-07 7.60758179e-10 3.18829143e-06 1.63082788e-07\n",
            "   5.47683463e-08 1.32992704e-06]\n",
            "  [7.76033238e-10 9.99485075e-01 1.54730715e-05 1.68743759e-06\n",
            "   2.58374144e-04 9.81986847e-09 4.18012824e-05 1.72922286e-04\n",
            "   1.08575557e-06 2.35771731e-05]\n",
            "  [2.81934973e-07 9.11880970e-01 4.06489801e-03 2.95395323e-04\n",
            "   1.88826341e-02 8.53113670e-06 5.10512711e-03 5.26599474e-02\n",
            "   1.08633074e-03 6.01583160e-03]\n",
            "  [4.98132247e-09 9.97346938e-01 6.16545731e-06 4.42525015e-06\n",
            "   1.31732173e-04 8.77755497e-07 1.18860556e-03 1.41254000e-04\n",
            "   8.68870848e-05 1.09320006e-03]\n",
            "  [7.84598569e-07 9.16579723e-01 8.47618002e-03 7.47123384e-04\n",
            "   3.04817799e-02 3.61897510e-05 1.67069435e-02 1.33019052e-02\n",
            "   2.02646619e-03 1.16429273e-02]\n",
            "  [3.09590664e-09 9.99083400e-01 1.49947402e-06 4.03582192e-07\n",
            "   2.19066515e-05 4.11548797e-07 5.22185350e-04 4.84624161e-06\n",
            "   2.85276346e-05 3.36854107e-04]\n",
            "  [4.57409897e-08 9.99086261e-01 1.06475571e-04 8.75625756e-06\n",
            "   3.58332356e-04 3.37189505e-07 2.25931537e-04 6.09815943e-05\n",
            "   1.13690976e-05 1.41456781e-04]\n",
            "  [4.16867998e-08 9.99840498e-01 4.98308964e-06 3.50089908e-06\n",
            "   2.86698487e-05 1.12231511e-07 4.04568491e-05 2.28666886e-05\n",
            "   3.88010130e-06 5.50380500e-05]\n",
            "  [9.84526947e-02 1.04683131e-01 1.03349812e-01 9.88846496e-02\n",
            "   1.02193907e-01 9.77864638e-02 9.87236276e-02 9.82008055e-02\n",
            "   9.89413261e-02 9.87835228e-02]\n",
            "  [9.84526947e-02 1.04683131e-01 1.03349812e-01 9.88846496e-02\n",
            "   1.02193907e-01 9.77864638e-02 9.87236276e-02 9.82008055e-02\n",
            "   9.89413261e-02 9.87835228e-02]\n",
            "  [9.84526947e-02 1.04683131e-01 1.03349812e-01 9.88846496e-02\n",
            "   1.02193907e-01 9.77864638e-02 9.87236276e-02 9.82008055e-02\n",
            "   9.89413261e-02 9.87835228e-02]\n",
            "  [9.84526947e-02 1.04683131e-01 1.03349812e-01 9.88846496e-02\n",
            "   1.02193907e-01 9.77864638e-02 9.87236276e-02 9.82008055e-02\n",
            "   9.89413261e-02 9.87835228e-02]\n",
            "  [9.84526947e-02 1.04683131e-01 1.03349812e-01 9.88846496e-02\n",
            "   1.02193907e-01 9.77864638e-02 9.87236276e-02 9.82008055e-02\n",
            "   9.89413261e-02 9.87835228e-02]\n",
            "  [9.84526947e-02 1.04683131e-01 1.03349812e-01 9.88846496e-02\n",
            "   1.02193907e-01 9.77864638e-02 9.87236276e-02 9.82008055e-02\n",
            "   9.89413261e-02 9.87835228e-02]\n",
            "  [9.84526947e-02 1.04683131e-01 1.03349812e-01 9.88846496e-02\n",
            "   1.02193907e-01 9.77864638e-02 9.87236276e-02 9.82008055e-02\n",
            "   9.89413261e-02 9.87835228e-02]\n",
            "  [9.84526947e-02 1.04683131e-01 1.03349812e-01 9.88846496e-02\n",
            "   1.02193907e-01 9.77864638e-02 9.87236276e-02 9.82008055e-02\n",
            "   9.89413261e-02 9.87835228e-02]\n",
            "  [9.84526947e-02 1.04683131e-01 1.03349812e-01 9.88846496e-02\n",
            "   1.02193907e-01 9.77864638e-02 9.87236276e-02 9.82008055e-02\n",
            "   9.89413261e-02 9.87835228e-02]\n",
            "  [9.84526947e-02 1.04683131e-01 1.03349812e-01 9.88846496e-02\n",
            "   1.02193907e-01 9.77864638e-02 9.87236276e-02 9.82008055e-02\n",
            "   9.89413261e-02 9.87835228e-02]\n",
            "  [9.84526947e-02 1.04683131e-01 1.03349812e-01 9.88846496e-02\n",
            "   1.02193907e-01 9.77864638e-02 9.87236276e-02 9.82008055e-02\n",
            "   9.89413261e-02 9.87835228e-02]\n",
            "  [9.84526947e-02 1.04683131e-01 1.03349812e-01 9.88846496e-02\n",
            "   1.02193907e-01 9.77864638e-02 9.87236276e-02 9.82008055e-02\n",
            "   9.89413261e-02 9.87835228e-02]\n",
            "  [9.84526947e-02 1.04683131e-01 1.03349812e-01 9.88846496e-02\n",
            "   1.02193907e-01 9.77864638e-02 9.87236276e-02 9.82008055e-02\n",
            "   9.89413261e-02 9.87835228e-02]\n",
            "  [9.84526947e-02 1.04683131e-01 1.03349812e-01 9.88846496e-02\n",
            "   1.02193907e-01 9.77864638e-02 9.87236276e-02 9.82008055e-02\n",
            "   9.89413261e-02 9.87835228e-02]\n",
            "  [9.84526947e-02 1.04683131e-01 1.03349812e-01 9.88846496e-02\n",
            "   1.02193907e-01 9.77864638e-02 9.87236276e-02 9.82008055e-02\n",
            "   9.89413261e-02 9.87835228e-02]\n",
            "  [9.84526947e-02 1.04683131e-01 1.03349812e-01 9.88846496e-02\n",
            "   1.02193907e-01 9.77864638e-02 9.87236276e-02 9.82008055e-02\n",
            "   9.89413261e-02 9.87835228e-02]\n",
            "  [9.84526947e-02 1.04683131e-01 1.03349812e-01 9.88846496e-02\n",
            "   1.02193907e-01 9.77864638e-02 9.87236276e-02 9.82008055e-02\n",
            "   9.89413261e-02 9.87835228e-02]\n",
            "  [9.84526947e-02 1.04683131e-01 1.03349812e-01 9.88846496e-02\n",
            "   1.02193907e-01 9.77864638e-02 9.87236276e-02 9.82008055e-02\n",
            "   9.89413261e-02 9.87835228e-02]\n",
            "  [9.84526947e-02 1.04683131e-01 1.03349812e-01 9.88846496e-02\n",
            "   1.02193907e-01 9.77864638e-02 9.87236276e-02 9.82008055e-02\n",
            "   9.89413261e-02 9.87835228e-02]\n",
            "  [9.84526947e-02 1.04683131e-01 1.03349812e-01 9.88846496e-02\n",
            "   1.02193907e-01 9.77864638e-02 9.87236276e-02 9.82008055e-02\n",
            "   9.89413261e-02 9.87835228e-02]\n",
            "  [9.84526947e-02 1.04683131e-01 1.03349812e-01 9.88846496e-02\n",
            "   1.02193907e-01 9.77864638e-02 9.87236276e-02 9.82008055e-02\n",
            "   9.89413261e-02 9.87835228e-02]\n",
            "  [9.84526947e-02 1.04683131e-01 1.03349812e-01 9.88846496e-02\n",
            "   1.02193907e-01 9.77864638e-02 9.87236276e-02 9.82008055e-02\n",
            "   9.89413261e-02 9.87835228e-02]\n",
            "  [9.84526947e-02 1.04683131e-01 1.03349812e-01 9.88846496e-02\n",
            "   1.02193907e-01 9.77864638e-02 9.87236276e-02 9.82008055e-02\n",
            "   9.89413261e-02 9.87835228e-02]\n",
            "  [9.84526947e-02 1.04683131e-01 1.03349812e-01 9.88846496e-02\n",
            "   1.02193907e-01 9.77864638e-02 9.87236276e-02 9.82008055e-02\n",
            "   9.89413261e-02 9.87835228e-02]\n",
            "  [9.84526947e-02 1.04683131e-01 1.03349812e-01 9.88846496e-02\n",
            "   1.02193907e-01 9.77864638e-02 9.87236276e-02 9.82008055e-02\n",
            "   9.89413261e-02 9.87835228e-02]\n",
            "  [9.84526947e-02 1.04683131e-01 1.03349812e-01 9.88846496e-02\n",
            "   1.02193907e-01 9.77864638e-02 9.87236276e-02 9.82008055e-02\n",
            "   9.89413261e-02 9.87835228e-02]\n",
            "  [9.84526947e-02 1.04683131e-01 1.03349812e-01 9.88846496e-02\n",
            "   1.02193907e-01 9.77864638e-02 9.87236276e-02 9.82008055e-02\n",
            "   9.89413261e-02 9.87835228e-02]\n",
            "  [9.84526947e-02 1.04683131e-01 1.03349812e-01 9.88846496e-02\n",
            "   1.02193907e-01 9.77864638e-02 9.87236276e-02 9.82008055e-02\n",
            "   9.89413261e-02 9.87835228e-02]\n",
            "  [9.84526947e-02 1.04683131e-01 1.03349812e-01 9.88846496e-02\n",
            "   1.02193907e-01 9.77864638e-02 9.87236276e-02 9.82008055e-02\n",
            "   9.89413261e-02 9.87835228e-02]\n",
            "  [9.84526947e-02 1.04683131e-01 1.03349812e-01 9.88846496e-02\n",
            "   1.02193907e-01 9.77864638e-02 9.87236276e-02 9.82008055e-02\n",
            "   9.89413261e-02 9.87835228e-02]\n",
            "  [9.84526947e-02 1.04683131e-01 1.03349812e-01 9.88846496e-02\n",
            "   1.02193907e-01 9.77864638e-02 9.87236276e-02 9.82008055e-02\n",
            "   9.89413261e-02 9.87835228e-02]\n",
            "  [9.84526947e-02 1.04683131e-01 1.03349812e-01 9.88846496e-02\n",
            "   1.02193907e-01 9.77864638e-02 9.87236276e-02 9.82008055e-02\n",
            "   9.89413261e-02 9.87835228e-02]\n",
            "  [9.84526947e-02 1.04683131e-01 1.03349812e-01 9.88846496e-02\n",
            "   1.02193907e-01 9.77864638e-02 9.87236276e-02 9.82008055e-02\n",
            "   9.89413261e-02 9.87835228e-02]\n",
            "  [9.84526947e-02 1.04683131e-01 1.03349812e-01 9.88846496e-02\n",
            "   1.02193907e-01 9.77864638e-02 9.87236276e-02 9.82008055e-02\n",
            "   9.89413261e-02 9.87835228e-02]\n",
            "  [9.84526947e-02 1.04683131e-01 1.03349812e-01 9.88846496e-02\n",
            "   1.02193907e-01 9.77864638e-02 9.87236276e-02 9.82008055e-02\n",
            "   9.89413261e-02 9.87835228e-02]\n",
            "  [9.84526947e-02 1.04683131e-01 1.03349812e-01 9.88846496e-02\n",
            "   1.02193907e-01 9.77864638e-02 9.87236276e-02 9.82008055e-02\n",
            "   9.89413261e-02 9.87835228e-02]\n",
            "  [9.84527022e-02 1.04683138e-01 1.03349820e-01 9.88846570e-02\n",
            "   1.02193914e-01 9.77864712e-02 9.87236351e-02 9.82008129e-02\n",
            "   9.89413336e-02 9.87835303e-02]\n",
            "  [9.84527022e-02 1.04683138e-01 1.03349820e-01 9.88846570e-02\n",
            "   1.02193914e-01 9.77864712e-02 9.87236351e-02 9.82008129e-02\n",
            "   9.89413336e-02 9.87835303e-02]\n",
            "  [9.84527022e-02 1.04683138e-01 1.03349820e-01 9.88846570e-02\n",
            "   1.02193914e-01 9.77864712e-02 9.87236351e-02 9.82008129e-02\n",
            "   9.89413336e-02 9.87835303e-02]\n",
            "  [9.84527022e-02 1.04683138e-01 1.03349820e-01 9.88846570e-02\n",
            "   1.02193914e-01 9.77864712e-02 9.87236351e-02 9.82008129e-02\n",
            "   9.89413336e-02 9.87835303e-02]\n",
            "  [9.84527022e-02 1.04683138e-01 1.03349820e-01 9.88846570e-02\n",
            "   1.02193914e-01 9.77864712e-02 9.87236351e-02 9.82008129e-02\n",
            "   9.89413336e-02 9.87835303e-02]\n",
            "  [9.84527022e-02 1.04683138e-01 1.03349820e-01 9.88846570e-02\n",
            "   1.02193914e-01 9.77864712e-02 9.87236351e-02 9.82008055e-02\n",
            "   9.89413336e-02 9.87835303e-02]]]\n",
            "after argmax :  [[4 4 1 2 1 1 1 1 1 1 1 1 1 1 1 1 1 1 1 1 1 1 1 1 1 1 1 1 1 1 1 1 1 1 1 1\n",
            "  1 1 1 1 1 1 1 1 1 1 1 1 1 1 1 1 1 1 1 1 1 1 1 1 1 1 1 1 1 1 1 1 1 1]]\n",
            "정답 개체명 : [3 5 1 2 1 1 1 1 1 1 1 1 1 1 1 1 1 1 1 1 1 1 1 1 1 1 1 1 0 0 0 0 0 0 0 0 0\n",
            " 0 0 0 0 0 0 0 0 0 0 0 0 0 0 0 0 0 0 0 0 0 0 0 0 0 0 0 0 0 0 0 0 0]\n",
            "출력 : 단어             :실제값            :예측값\n",
            "===================================\n",
            "OOV               : B-PER   : B-ORG\n",
            "ballanger         : I-PER   : B-ORG\n",
            "of                : O       : O\n",
            "france            : B-LOC   : B-LOC\n",
            "confirmed         : O       : O\n",
            "her               : O       : O\n",
            "status            : O       : O\n",
            "as                : O       : O\n",
            "the               : O       : O\n",
            "world             : O       : O\n",
            "'s                : O       : O\n",
            "number            : O       : O\n",
            "one               : O       : O\n",
            "woman             : O       : O\n",
            "OOV               : O       : O\n",
            "when              : O       : O\n",
            "she               : O       : O\n",
            "OOV               : O       : O\n",
            "her               : O       : O\n",
            "title             : O       : O\n",
            "at                : O       : O\n",
            "the               : O       : O\n",
            "world             : O       : O\n",
            "cycling           : O       : O\n",
            "championships     : O       : O\n",
            "on                : O       : O\n",
            "friday            : O       : O\n",
            ".                 : O       : O\n"
          ]
        }
      ]
    },
    {
      "cell_type": "code",
      "source": [],
      "metadata": {
        "id": "ESDkvQVmOV22"
      },
      "execution_count": null,
      "outputs": []
    }
  ]
}
